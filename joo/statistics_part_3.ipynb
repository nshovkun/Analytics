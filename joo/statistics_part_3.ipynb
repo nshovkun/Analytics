{
 "cells": [
  {
   "cell_type": "code",
   "execution_count": 1,
   "metadata": {
    "collapsed": true
   },
   "outputs": [
    {
     "name": "stdout",
     "output_type": "stream",
     "text": [
      "Collecting pandas\n",
      "  Using cached https://files.pythonhosted.org/packages/bb/71/8f53bdbcbc67c912b888b40def255767e475402e9df64050019149b1a943/pandas-1.0.3-cp36-cp36m-manylinux1_x86_64.whl\n",
      "Collecting pytz>=2017.2 (from pandas)\n",
      "  Using cached https://files.pythonhosted.org/packages/e7/f9/f0b53f88060247251bf481fa6ea62cd0d25bf1b11a87888e53ce5b7c8ad2/pytz-2019.3-py2.py3-none-any.whl\n",
      "Collecting numpy>=1.13.3 (from pandas)\n",
      "  Using cached https://files.pythonhosted.org/packages/07/08/a549ba8b061005bb629b76adc000f3caaaf881028b963c2e18f811c6edc1/numpy-1.18.2-cp36-cp36m-manylinux1_x86_64.whl\n",
      "Collecting python-dateutil>=2.6.1 (from pandas)\n",
      "  Using cached https://files.pythonhosted.org/packages/d4/70/d60450c3dd48ef87586924207ae8907090de0b306af2bce5d134d78615cb/python_dateutil-2.8.1-py2.py3-none-any.whl\n",
      "Collecting six>=1.5 (from python-dateutil>=2.6.1->pandas)\n",
      "  Using cached https://files.pythonhosted.org/packages/65/eb/1f97cb97bfc2390a276969c6fae16075da282f5058082d4cb10c6c5c1dba/six-1.14.0-py2.py3-none-any.whl\n",
      "Installing collected packages: pytz, numpy, six, python-dateutil, pandas\n",
      "Successfully installed numpy-1.18.2 pandas-1.0.3 python-dateutil-2.8.1 pytz-2019.3 six-1.14.0\n"
     ]
    }
   ],
   "source": [
    "# install need libraly and packages\n",
    "!pip3 install pandas\n"
   ]
  },
  {
   "cell_type": "code",
   "execution_count": 86,
   "metadata": {},
   "outputs": [],
   "source": [
    "from __future__ import print_function\n",
    "\n",
    "import pandas as pd\n",
    "import numpy as np\n",
    "from scipy.stats import ttest_ind, ttest_ind_from_stats\n",
    "from scipy.special import stdtr\n",
    "\n",
    "import matplotlib.pyplot as plt\n",
    "plt.rcParams['figure.figsize'] = [12, 8]\n",
    "%matplotlib inline\n",
    "\n",
    "from datetime import datetime"
   ]
  },
  {
   "cell_type": "code",
   "execution_count": 3,
   "metadata": {},
   "outputs": [],
   "source": [
    "# задать папку с файлами для обработки\n",
    "path_ab_test = 'ab_test.tsv'\n",
    "path_ab_test_res = 'ab_test.txt'"
   ]
  },
  {
   "cell_type": "code",
   "execution_count": 4,
   "metadata": {},
   "outputs": [
    {
     "data": {
      "text/html": [
       "<div>\n",
       "<style scoped>\n",
       "    .dataframe tbody tr th:only-of-type {\n",
       "        vertical-align: middle;\n",
       "    }\n",
       "\n",
       "    .dataframe tbody tr th {\n",
       "        vertical-align: top;\n",
       "    }\n",
       "\n",
       "    .dataframe thead th {\n",
       "        text-align: right;\n",
       "    }\n",
       "</style>\n",
       "<table border=\"1\" class=\"dataframe\">\n",
       "  <thead>\n",
       "    <tr style=\"text-align: right;\">\n",
       "      <th></th>\n",
       "      <th>search_id</th>\n",
       "      <th>search_date</th>\n",
       "      <th>clicks</th>\n",
       "      <th>group</th>\n",
       "    </tr>\n",
       "  </thead>\n",
       "  <tbody>\n",
       "    <tr>\n",
       "      <th>2433</th>\n",
       "      <td>-2731449668054081775</td>\n",
       "      <td>2017-11-23</td>\n",
       "      <td>0</td>\n",
       "      <td>2</td>\n",
       "    </tr>\n",
       "    <tr>\n",
       "      <th>7178</th>\n",
       "      <td>-4235262577669278056</td>\n",
       "      <td>2017-11-22</td>\n",
       "      <td>0</td>\n",
       "      <td>3</td>\n",
       "    </tr>\n",
       "  </tbody>\n",
       "</table>\n",
       "</div>"
      ],
      "text/plain": [
       "                search_id search_date  clicks  group\n",
       "2433 -2731449668054081775  2017-11-23       0      2\n",
       "7178 -4235262577669278056  2017-11-22       0      3"
      ]
     },
     "execution_count": 4,
     "metadata": {},
     "output_type": "execute_result"
    }
   ],
   "source": [
    "# read file a/b test result\n",
    "df_ab_ctr = pd.read_csv(path_ab_test\n",
    "                     ,encoding='cp1251'\n",
    "                     , sep='\\t'\n",
    "                    ).fillna('') # замена пустых значений\n",
    "\n",
    "\n",
    "df_ab_ctr.sample(2)"
   ]
  },
  {
   "cell_type": "code",
   "execution_count": 5,
   "metadata": {},
   "outputs": [
    {
     "data": {
      "text/html": [
       "<div>\n",
       "<style scoped>\n",
       "    .dataframe tbody tr th:only-of-type {\n",
       "        vertical-align: middle;\n",
       "    }\n",
       "\n",
       "    .dataframe tbody tr th {\n",
       "        vertical-align: top;\n",
       "    }\n",
       "\n",
       "    .dataframe thead th {\n",
       "        text-align: right;\n",
       "    }\n",
       "</style>\n",
       "<table border=\"1\" class=\"dataframe\">\n",
       "  <thead>\n",
       "    <tr style=\"text-align: right;\">\n",
       "      <th></th>\n",
       "      <th>search_id</th>\n",
       "      <th>clicks</th>\n",
       "      <th>group</th>\n",
       "    </tr>\n",
       "  </thead>\n",
       "  <tbody>\n",
       "    <tr>\n",
       "      <th>count</th>\n",
       "      <td>9.662000e+03</td>\n",
       "      <td>9662.000000</td>\n",
       "      <td>9662.000000</td>\n",
       "    </tr>\n",
       "    <tr>\n",
       "      <th>mean</th>\n",
       "      <td>5.127190e+16</td>\n",
       "      <td>0.534568</td>\n",
       "      <td>2.503001</td>\n",
       "    </tr>\n",
       "    <tr>\n",
       "      <th>std</th>\n",
       "      <td>5.327594e+18</td>\n",
       "      <td>0.909413</td>\n",
       "      <td>0.500017</td>\n",
       "    </tr>\n",
       "    <tr>\n",
       "      <th>min</th>\n",
       "      <td>-9.220836e+18</td>\n",
       "      <td>0.000000</td>\n",
       "      <td>2.000000</td>\n",
       "    </tr>\n",
       "    <tr>\n",
       "      <th>25%</th>\n",
       "      <td>-4.578733e+18</td>\n",
       "      <td>0.000000</td>\n",
       "      <td>2.000000</td>\n",
       "    </tr>\n",
       "    <tr>\n",
       "      <th>50%</th>\n",
       "      <td>1.348137e+17</td>\n",
       "      <td>0.000000</td>\n",
       "      <td>3.000000</td>\n",
       "    </tr>\n",
       "    <tr>\n",
       "      <th>75%</th>\n",
       "      <td>4.576849e+18</td>\n",
       "      <td>1.000000</td>\n",
       "      <td>3.000000</td>\n",
       "    </tr>\n",
       "    <tr>\n",
       "      <th>max</th>\n",
       "      <td>9.220794e+18</td>\n",
       "      <td>15.000000</td>\n",
       "      <td>3.000000</td>\n",
       "    </tr>\n",
       "  </tbody>\n",
       "</table>\n",
       "</div>"
      ],
      "text/plain": [
       "          search_id       clicks        group\n",
       "count  9.662000e+03  9662.000000  9662.000000\n",
       "mean   5.127190e+16     0.534568     2.503001\n",
       "std    5.327594e+18     0.909413     0.500017\n",
       "min   -9.220836e+18     0.000000     2.000000\n",
       "25%   -4.578733e+18     0.000000     2.000000\n",
       "50%    1.348137e+17     0.000000     3.000000\n",
       "75%    4.576849e+18     1.000000     3.000000\n",
       "max    9.220794e+18    15.000000     3.000000"
      ]
     },
     "execution_count": 5,
     "metadata": {},
     "output_type": "execute_result"
    }
   ],
   "source": [
    "df_ab_ctr.describe()"
   ]
  },
  {
   "cell_type": "code",
   "execution_count": 6,
   "metadata": {},
   "outputs": [
    {
     "data": {
      "text/html": [
       "<div>\n",
       "<style scoped>\n",
       "    .dataframe tbody tr th:only-of-type {\n",
       "        vertical-align: middle;\n",
       "    }\n",
       "\n",
       "    .dataframe tbody tr th {\n",
       "        vertical-align: top;\n",
       "    }\n",
       "\n",
       "    .dataframe thead th {\n",
       "        text-align: right;\n",
       "    }\n",
       "</style>\n",
       "<table border=\"1\" class=\"dataframe\">\n",
       "  <thead>\n",
       "    <tr style=\"text-align: right;\">\n",
       "      <th></th>\n",
       "      <th>search_id</th>\n",
       "      <th>search_date</th>\n",
       "      <th>clicks</th>\n",
       "      <th>group</th>\n",
       "    </tr>\n",
       "  </thead>\n",
       "  <tbody>\n",
       "    <tr>\n",
       "      <th>0</th>\n",
       "      <td>-3136706724385003188</td>\n",
       "      <td>2017-11-23</td>\n",
       "      <td>0</td>\n",
       "      <td>2</td>\n",
       "    </tr>\n",
       "    <tr>\n",
       "      <th>1</th>\n",
       "      <td>-3139609516900744687</td>\n",
       "      <td>2017-11-22</td>\n",
       "      <td>0</td>\n",
       "      <td>2</td>\n",
       "    </tr>\n",
       "    <tr>\n",
       "      <th>2</th>\n",
       "      <td>-776473245209166820</td>\n",
       "      <td>2017-11-22</td>\n",
       "      <td>0</td>\n",
       "      <td>2</td>\n",
       "    </tr>\n",
       "    <tr>\n",
       "      <th>3</th>\n",
       "      <td>2254608150971607405</td>\n",
       "      <td>2017-11-25</td>\n",
       "      <td>1</td>\n",
       "      <td>2</td>\n",
       "    </tr>\n",
       "    <tr>\n",
       "      <th>4</th>\n",
       "      <td>2397168305001145852</td>\n",
       "      <td>2017-11-24</td>\n",
       "      <td>0</td>\n",
       "      <td>2</td>\n",
       "    </tr>\n",
       "  </tbody>\n",
       "</table>\n",
       "</div>"
      ],
      "text/plain": [
       "             search_id search_date  clicks  group\n",
       "0 -3136706724385003188  2017-11-23       0      2\n",
       "1 -3139609516900744687  2017-11-22       0      2\n",
       "2  -776473245209166820  2017-11-22       0      2\n",
       "3  2254608150971607405  2017-11-25       1      2\n",
       "4  2397168305001145852  2017-11-24       0      2"
      ]
     },
     "execution_count": 6,
     "metadata": {},
     "output_type": "execute_result"
    }
   ],
   "source": [
    "# преобразование даты в UNIX формат\n",
    "df_ab_ctr['search_date'] = pd.to_datetime(df_ab_ctr['search_date'])\n",
    "\n",
    "df_ab_ctr.head()"
   ]
  },
  {
   "cell_type": "code",
   "execution_count": 7,
   "metadata": {},
   "outputs": [
    {
     "data": {
      "text/plain": [
       "count                    9662\n",
       "unique                      4\n",
       "top       2017-11-23 00:00:00\n",
       "freq                     3455\n",
       "first     2017-11-22 00:00:00\n",
       "last      2017-11-25 00:00:00\n",
       "Name: search_date, dtype: object"
      ]
     },
     "execution_count": 7,
     "metadata": {},
     "output_type": "execute_result"
    }
   ],
   "source": [
    "# определяем тествовый период\n",
    "df_ab_ctr['search_date'].describe()"
   ]
  },
  {
   "cell_type": "markdown",
   "metadata": {},
   "source": [
    "Для проверки равенства средних значений по выборке используют t-критерий Стьюдента.\n",
    "Нулевая гипотеза в данном случае следущая - средние значения по двум выборкам равны,\n",
    "альтернативная - значения не равны.\n",
    "\n",
    "-----------------------\n",
    "\n",
    "Для того чтобы понять, можем ли мы отвергнуть или принять нулевую гипотезу, \n",
    "нам надо посмотреть на значение p-value. \n",
    "Обычно *p-value \n",
    "берут равным 0,05 (уровень значимости 0,95) \n",
    "или 0,01 (уровень значимости 0,9). Чем выше уровень значимости (и меньше Р-значение), тем достовернее результаты."
   ]
  },
  {
   "cell_type": "markdown",
   "metadata": {},
   "source": [
    "разделю датасет на 2 датафрейма в соответствии с группой, далее по принципу 2 выборочного критерия для независимых выборок.\n",
    "Просчитаем статистику с помощью метода ttest_ind"
   ]
  },
  {
   "cell_type": "code",
   "execution_count": 47,
   "metadata": {},
   "outputs": [
    {
     "data": {
      "text/plain": [
       "((4802, 4), (4860, 4))"
      ]
     },
     "execution_count": 47,
     "metadata": {},
     "output_type": "execute_result"
    }
   ],
   "source": [
    "# разделение на группы\n",
    "df_group_3 = df_ab_ctr[df_ab_ctr['group']==3]\n",
    "df_group_2 = df_ab_ctr[df_ab_ctr['group']==2]\n",
    "\n",
    "# проверка по структуре\n",
    "df_group_2.shape, df_group_3.shape "
   ]
  },
  {
   "cell_type": "code",
   "execution_count": 59,
   "metadata": {},
   "outputs": [
    {
     "name": "stdout",
     "output_type": "stream",
     "text": [
      "group_mean:  group 2 = 0.55706 || group 3 = 0.512346\n"
     ]
    }
   ],
   "source": [
    "print(\"group_mean:  group 2 = %g || group 3 = %g\" % (df_group_2['clicks'].mean()\n",
    "                                       , df_group_3['clicks'].mean()))"
   ]
  },
  {
   "cell_type": "code",
   "execution_count": 48,
   "metadata": {},
   "outputs": [
    {
     "name": "stdout",
     "output_type": "stream",
     "text": [
      "ttest_ind:            statist = 2.41203  p_value = 0.0158824\n"
     ]
    }
   ],
   "source": [
    "# возмём равное число записей для 2 датафреймов\n",
    "\n",
    "statist , p_value = ttest_ind(df_group_2['clicks'].sample(n=4800)\n",
    "              , df_group_3['clicks'].sample(n=4800)\n",
    "            , equal_var=False\n",
    "             )\n",
    "\n",
    "print(\"ttest_ind:  statist = %g  p_value = %g\" % (statist, p_value))"
   ]
  },
  {
   "cell_type": "markdown",
   "metadata": {},
   "source": [
    "как результат\n",
    "- при уровне значимости 0,9 мы имеем значение pvalue больше 0,01 - поэтому мы отвергаем альтернативную гипотезу\n",
    "- при уровне значимости 0,95 мы имеем значение pvalue меньше 0,05 - поэтому мы отвергаем нулевую гипотезу, что средние равны.\n",
    "\n",
    "и соответственно расчитанное среднее значение для группы 2 не случайная величина.\n",
    "\n",
    "**Хотя срок проведения А/В теста составлял только 4 дня, что могло быть недостаточных для более полной ситуации. Так же принимаю за условие, что тест проводится за обычных условий и на него не вляют дополнительные факторы (например, промо-кампании)**"
   ]
  },
  {
   "cell_type": "markdown",
   "metadata": {},
   "source": [
    "# Для  визуализации по дням"
   ]
  },
  {
   "cell_type": "code",
   "execution_count": 91,
   "metadata": {},
   "outputs": [
    {
     "data": {
      "text/html": [
       "<div>\n",
       "<style scoped>\n",
       "    .dataframe tbody tr th:only-of-type {\n",
       "        vertical-align: middle;\n",
       "    }\n",
       "\n",
       "    .dataframe tbody tr th {\n",
       "        vertical-align: top;\n",
       "    }\n",
       "\n",
       "    .dataframe thead th {\n",
       "        text-align: right;\n",
       "    }\n",
       "</style>\n",
       "<table border=\"1\" class=\"dataframe\">\n",
       "  <thead>\n",
       "    <tr style=\"text-align: right;\">\n",
       "      <th></th>\n",
       "      <th></th>\n",
       "      <th>clicks</th>\n",
       "    </tr>\n",
       "    <tr>\n",
       "      <th>group</th>\n",
       "      <th>search_date</th>\n",
       "      <th></th>\n",
       "    </tr>\n",
       "  </thead>\n",
       "  <tbody>\n",
       "    <tr>\n",
       "      <th rowspan=\"4\" valign=\"top\">2</th>\n",
       "      <th>2017-11-22</th>\n",
       "      <td>939</td>\n",
       "    </tr>\n",
       "    <tr>\n",
       "      <th>2017-11-23</th>\n",
       "      <td>980</td>\n",
       "    </tr>\n",
       "    <tr>\n",
       "      <th>2017-11-24</th>\n",
       "      <td>573</td>\n",
       "    </tr>\n",
       "    <tr>\n",
       "      <th>2017-11-25</th>\n",
       "      <td>183</td>\n",
       "    </tr>\n",
       "    <tr>\n",
       "      <th rowspan=\"4\" valign=\"top\">3</th>\n",
       "      <th>2017-11-22</th>\n",
       "      <td>937</td>\n",
       "    </tr>\n",
       "    <tr>\n",
       "      <th>2017-11-23</th>\n",
       "      <td>884</td>\n",
       "    </tr>\n",
       "    <tr>\n",
       "      <th>2017-11-24</th>\n",
       "      <td>535</td>\n",
       "    </tr>\n",
       "    <tr>\n",
       "      <th>2017-11-25</th>\n",
       "      <td>134</td>\n",
       "    </tr>\n",
       "  </tbody>\n",
       "</table>\n",
       "</div>"
      ],
      "text/plain": [
       "                   clicks\n",
       "group search_date        \n",
       "2     2017-11-22      939\n",
       "      2017-11-23      980\n",
       "      2017-11-24      573\n",
       "      2017-11-25      183\n",
       "3     2017-11-22      937\n",
       "      2017-11-23      884\n",
       "      2017-11-24      535\n",
       "      2017-11-25      134"
      ]
     },
     "execution_count": 91,
     "metadata": {},
     "output_type": "execute_result"
    }
   ],
   "source": [
    "# просчет суммы кликов в разбивке по дню и тест.группе\n",
    "df_clicks = pd.pivot_table(df_ab_ctr, \n",
    "                   index=['group','search_date'], \n",
    "                   values=['clicks'],\n",
    "                   aggfunc=np.sum)\n",
    "df_clicks"
   ]
  },
  {
   "cell_type": "code",
   "execution_count": 90,
   "metadata": {},
   "outputs": [
    {
     "data": {
      "text/html": [
       "<div>\n",
       "<style scoped>\n",
       "    .dataframe tbody tr th:only-of-type {\n",
       "        vertical-align: middle;\n",
       "    }\n",
       "\n",
       "    .dataframe tbody tr th {\n",
       "        vertical-align: top;\n",
       "    }\n",
       "\n",
       "    .dataframe thead th {\n",
       "        text-align: right;\n",
       "    }\n",
       "</style>\n",
       "<table border=\"1\" class=\"dataframe\">\n",
       "  <thead>\n",
       "    <tr style=\"text-align: right;\">\n",
       "      <th></th>\n",
       "      <th></th>\n",
       "      <th>search_id</th>\n",
       "    </tr>\n",
       "    <tr>\n",
       "      <th>group</th>\n",
       "      <th>search_date</th>\n",
       "      <th></th>\n",
       "    </tr>\n",
       "  </thead>\n",
       "  <tbody>\n",
       "    <tr>\n",
       "      <th rowspan=\"4\" valign=\"top\">2</th>\n",
       "      <th>2017-11-22</th>\n",
       "      <td>1663</td>\n",
       "    </tr>\n",
       "    <tr>\n",
       "      <th>2017-11-23</th>\n",
       "      <td>1755</td>\n",
       "    </tr>\n",
       "    <tr>\n",
       "      <th>2017-11-24</th>\n",
       "      <td>1084</td>\n",
       "    </tr>\n",
       "    <tr>\n",
       "      <th>2017-11-25</th>\n",
       "      <td>300</td>\n",
       "    </tr>\n",
       "    <tr>\n",
       "      <th rowspan=\"4\" valign=\"top\">3</th>\n",
       "      <th>2017-11-22</th>\n",
       "      <td>1706</td>\n",
       "    </tr>\n",
       "    <tr>\n",
       "      <th>2017-11-23</th>\n",
       "      <td>1700</td>\n",
       "    </tr>\n",
       "    <tr>\n",
       "      <th>2017-11-24</th>\n",
       "      <td>1143</td>\n",
       "    </tr>\n",
       "    <tr>\n",
       "      <th>2017-11-25</th>\n",
       "      <td>311</td>\n",
       "    </tr>\n",
       "  </tbody>\n",
       "</table>\n",
       "</div>"
      ],
      "text/plain": [
       "                   search_id\n",
       "group search_date           \n",
       "2     2017-11-22        1663\n",
       "      2017-11-23        1755\n",
       "      2017-11-24        1084\n",
       "      2017-11-25         300\n",
       "3     2017-11-22        1706\n",
       "      2017-11-23        1700\n",
       "      2017-11-24        1143\n",
       "      2017-11-25         311"
      ]
     },
     "execution_count": 90,
     "metadata": {},
     "output_type": "execute_result"
    }
   ],
   "source": [
    "# просчет к-ства показов в разбивке по дню и тест.группе\n",
    "df_view = pd.pivot_table(df_ab_ctr, \n",
    "                     index=['group','search_date'], \n",
    "                     values='search_id',\n",
    "                     aggfunc=len)\n",
    "df_view"
   ]
  },
  {
   "cell_type": "code",
   "execution_count": 92,
   "metadata": {},
   "outputs": [
    {
     "data": {
      "text/html": [
       "<div>\n",
       "<style scoped>\n",
       "    .dataframe tbody tr th:only-of-type {\n",
       "        vertical-align: middle;\n",
       "    }\n",
       "\n",
       "    .dataframe tbody tr th {\n",
       "        vertical-align: top;\n",
       "    }\n",
       "\n",
       "    .dataframe thead th {\n",
       "        text-align: right;\n",
       "    }\n",
       "</style>\n",
       "<table border=\"1\" class=\"dataframe\">\n",
       "  <thead>\n",
       "    <tr style=\"text-align: right;\">\n",
       "      <th></th>\n",
       "      <th></th>\n",
       "      <th>sum_clicks</th>\n",
       "      <th>cnt_view</th>\n",
       "      <th>CTR</th>\n",
       "    </tr>\n",
       "    <tr>\n",
       "      <th>group</th>\n",
       "      <th>search_date</th>\n",
       "      <th></th>\n",
       "      <th></th>\n",
       "      <th></th>\n",
       "    </tr>\n",
       "  </thead>\n",
       "  <tbody>\n",
       "    <tr>\n",
       "      <th rowspan=\"4\" valign=\"top\">2</th>\n",
       "      <th>2017-11-22</th>\n",
       "      <td>939</td>\n",
       "      <td>1663</td>\n",
       "      <td>56.46</td>\n",
       "    </tr>\n",
       "    <tr>\n",
       "      <th>2017-11-23</th>\n",
       "      <td>980</td>\n",
       "      <td>1755</td>\n",
       "      <td>55.84</td>\n",
       "    </tr>\n",
       "    <tr>\n",
       "      <th>2017-11-24</th>\n",
       "      <td>573</td>\n",
       "      <td>1084</td>\n",
       "      <td>52.86</td>\n",
       "    </tr>\n",
       "    <tr>\n",
       "      <th>2017-11-25</th>\n",
       "      <td>183</td>\n",
       "      <td>300</td>\n",
       "      <td>61.00</td>\n",
       "    </tr>\n",
       "    <tr>\n",
       "      <th rowspan=\"4\" valign=\"top\">3</th>\n",
       "      <th>2017-11-22</th>\n",
       "      <td>937</td>\n",
       "      <td>1706</td>\n",
       "      <td>54.92</td>\n",
       "    </tr>\n",
       "    <tr>\n",
       "      <th>2017-11-23</th>\n",
       "      <td>884</td>\n",
       "      <td>1700</td>\n",
       "      <td>52.00</td>\n",
       "    </tr>\n",
       "    <tr>\n",
       "      <th>2017-11-24</th>\n",
       "      <td>535</td>\n",
       "      <td>1143</td>\n",
       "      <td>46.81</td>\n",
       "    </tr>\n",
       "    <tr>\n",
       "      <th>2017-11-25</th>\n",
       "      <td>134</td>\n",
       "      <td>311</td>\n",
       "      <td>43.09</td>\n",
       "    </tr>\n",
       "  </tbody>\n",
       "</table>\n",
       "</div>"
      ],
      "text/plain": [
       "                   sum_clicks  cnt_view    CTR\n",
       "group search_date                             \n",
       "2     2017-11-22          939      1663  56.46\n",
       "      2017-11-23          980      1755  55.84\n",
       "      2017-11-24          573      1084  52.86\n",
       "      2017-11-25          183       300  61.00\n",
       "3     2017-11-22          937      1706  54.92\n",
       "      2017-11-23          884      1700  52.00\n",
       "      2017-11-24          535      1143  46.81\n",
       "      2017-11-25          134       311  43.09"
      ]
     },
     "execution_count": 92,
     "metadata": {},
     "output_type": "execute_result"
    }
   ],
   "source": [
    "# объединение данные по кликам и показам\n",
    "pivot = pd.concat([df_clicks,df_view],axis=1)\n",
    "pivot['CTR'] = round(pivot['clicks'].div(pivot['search_id']) * 100, 2)\n",
    "\n",
    "pivot.rename(columns={'search_id': 'cnt_view', 'clicks': 'sum_clicks'}, inplace=True)\n",
    "pivot"
   ]
  },
  {
   "cell_type": "code",
   "execution_count": 165,
   "metadata": {},
   "outputs": [
    {
     "data": {
      "text/plain": [
       "(       sum_clicks     cnt_view        CTR\n",
       " count    4.000000     4.000000   4.000000\n",
       " mean   668.750000  1200.500000  56.540000\n",
       " std    371.946569   669.788275   3.363054\n",
       " min    183.000000   300.000000  52.860000\n",
       " 25%    475.500000   888.000000  55.095000\n",
       " 50%    756.000000  1373.500000  56.150000\n",
       " 75%    949.250000  1686.000000  57.595000\n",
       " max    980.000000  1755.000000  61.000000,\n",
       "        sum_clicks     cnt_view        CTR\n",
       " count     4.00000     4.000000   4.000000\n",
       " mean    622.50000  1215.000000  49.205000\n",
       " std     371.29548   657.952886   5.278968\n",
       " min     134.00000   311.000000  43.090000\n",
       " 25%     434.75000   935.000000  45.880000\n",
       " 50%     709.50000  1421.500000  49.405000\n",
       " 75%     897.25000  1701.500000  52.730000\n",
       " max     937.00000  1706.000000  54.920000)"
      ]
     },
     "execution_count": 165,
     "metadata": {},
     "output_type": "execute_result"
    }
   ],
   "source": [
    "# описательная статистика по каждой из групп.\n",
    "\"\"\"\n",
    "можно видеть, что распределение не нормальное, т.к. среднее, медиана не совпадают. \n",
    "Среднее значение для к-сва просмотров и кликов находится в I квартиле, скос - влево.\n",
    "\"\"\"\n",
    "pivot[['sum_clicks', 'cnt_view', 'CTR']].loc[2].describe(), pivot[['sum_clicks', 'cnt_view', 'CTR']].loc[3].describe()"
   ]
  },
  {
   "cell_type": "code",
   "execution_count": 153,
   "metadata": {},
   "outputs": [],
   "source": [
    "def name_plot(group):\n",
    "    data = pivot[['sum_clicks', 'cnt_view']].loc[group]\n",
    "    \n",
    "    x = np.linspace(0, 20, 1000)\n",
    "    plt.plot(data.index, data.values)\n"
   ]
  },
  {
   "cell_type": "code",
   "execution_count": 154,
   "metadata": {},
   "outputs": [
    {
     "data": {
      "image/png": "[encoded data removed]",
      "text/plain": [
       "<Figure size 432x288 with 1 Axes>"
      ]
     },
     "metadata": {
      "needs_background": "light"
     },
     "output_type": "display_data"
    }
   ],
   "source": [
    "fig=plt.figure()\n",
    "fig.suptitle('тенденция для 3 группы', fontsize=20)\n",
    "plt.xlabel('дата', fontsize=18)\n",
    "plt.ylabel('количество', fontsize=16)\n",
    "\n",
    "\n",
    "name_plot(3)"
   ]
  },
  {
   "cell_type": "code",
   "execution_count": 155,
   "metadata": {},
   "outputs": [
    {
     "data": {
      "image/png": "[encoded data removed]",
      "text/plain": [
       "<Figure size 432x288 with 1 Axes>"
      ]
     },
     "metadata": {
      "needs_background": "light"
     },
     "output_type": "display_data"
    }
   ],
   "source": [
    "fig=plt.figure()\n",
    "fig.suptitle('тенденция для 2 группы', fontsize=20)\n",
    "plt.xlabel('дата', fontsize=18)\n",
    "plt.ylabel('количество', fontsize=16)\n",
    "\n",
    "name_plot(2)"
   ]
  },
  {
   "cell_type": "markdown",
   "metadata": {},
   "source": [
    "для 2 группы 23-11-207 наблюдался определённый пик в показах и кликах. Но если смотреть на динамику, то падание показов стремительно "
   ]
  },
  {
   "cell_type": "code",
   "execution_count": 147,
   "metadata": {},
   "outputs": [
    {
     "data": {
      "text/plain": [
       "<matplotlib.legend.Legend at 0x7fb47bd5cef0>"
      ]
     },
     "execution_count": 147,
     "metadata": {},
     "output_type": "execute_result"
    },
    {
     "data": {
      "image/png": "[encoded data removed]",
      "text/plain": [
       "<Figure size 432x288 with 1 Axes>"
      ]
     },
     "metadata": {
      "needs_background": "light"
     },
     "output_type": "display_data"
    }
   ],
   "source": [
    "groups = [2, 3]\n",
    "\n",
    "for group in groups:\n",
    "    name_plot(group)\n",
    " \n",
    "plt.legend(groups, loc=\"upper right\")"
   ]
  },
  {
   "cell_type": "code",
   "execution_count": null,
   "metadata": {},
   "outputs": [],
   "source": []
  }
 ],
 "metadata": {
  "kernelspec": {
   "display_name": "Python 3",
   "language": "python",
   "name": "python3"
  },
  "language_info": {
   "codemirror_mode": {
    "name": "ipython",
    "version": 3
   },
   "file_extension": ".py",
   "mimetype": "text/x-python",
   "name": "python",
   "nbconvert_exporter": "python",
   "pygments_lexer": "ipython3",
   "version": "3.6.9"
  }
 },
 "nbformat": 4,
 "nbformat_minor": 4
}
