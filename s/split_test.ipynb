{
 "cells": [
  {
   "cell_type": "markdown",
   "metadata": {},
   "source": [
    "Мы запустили сплит-тест платежной формы, чтобы проверить следующую гипотезу:\n",
    "● Если убрать поле для ввода Name on card, то вырастет конверсия в нажатие\n",
    "кнопки Pay, т.к. пользователям придётся вводит меньше данных.\n",
    "\n",
    "# Цель\n",
    "Нужно подсчитать результаты сплит-теста, проанализировать и написать выводы по ним\n",
    "(какая форма выиграла, на какой из платформ был получен более значимый результат,\n",
    "что могло повлиять на результат сплит-теста и над чем следует поработать для\n",
    "оптимизации конверсии).\n",
    "\n",
    "Название датасета - Dataset_Task1_Solid_Data_Analyst.xlsx\n",
    "\n",
    "Он содержит:\n",
    "    ● Уникальный идентификатор посещения - idvisit\n",
    "    ● Conversion, где 1 - результат успешного нажатия кнопки Pay\n",
    "    ● Поле A/B, где old - старая форма, new - новая форма без Name on card\n",
    "    ● Прочие атрибуты\n",
    "    \n",
    "Решение должно состоят из 2-х частей: расчеты (Python, iPython Notebook, Excel) и файл\n",
    "с выводами и графиками."
   ]
  },
  {
   "cell_type": "code",
   "execution_count": 32,
   "metadata": {
    "collapsed": true
   },
   "outputs": [
    {
     "name": "stdout",
     "output_type": "stream",
     "text": [
      "Requirement already up-to-date: google-api-python-client in /Users/nsh/.pyenv/versions/3.7.2/lib/python3.7/site-packages (1.12.3)\n",
      "Requirement already up-to-date: google-auth-httplib2 in /Users/nsh/.pyenv/versions/3.7.2/lib/python3.7/site-packages (0.0.4)\n",
      "Requirement already up-to-date: google-auth-oauthlib in /Users/nsh/.pyenv/versions/3.7.2/lib/python3.7/site-packages (0.4.1)\n",
      "Requirement already satisfied, skipping upgrade: google-auth>=1.16.0 in /Users/nsh/.pyenv/versions/3.7.2/lib/python3.7/site-packages (from google-api-python-client) (1.22.1)\n",
      "Requirement already satisfied, skipping upgrade: uritemplate<4dev,>=3.0.0 in /Users/nsh/.pyenv/versions/3.7.2/lib/python3.7/site-packages (from google-api-python-client) (3.0.1)\n",
      "Requirement already satisfied, skipping upgrade: google-api-core<2dev,>=1.21.0 in /Users/nsh/.pyenv/versions/3.7.2/lib/python3.7/site-packages (from google-api-python-client) (1.22.4)\n",
      "Requirement already satisfied, skipping upgrade: httplib2<1dev,>=0.15.0 in /Users/nsh/.pyenv/versions/3.7.2/lib/python3.7/site-packages (from google-api-python-client) (0.18.1)\n",
      "Requirement already satisfied, skipping upgrade: six<2dev,>=1.13.0 in /Users/nsh/.pyenv/versions/3.7.2/lib/python3.7/site-packages (from google-api-python-client) (1.15.0)\n",
      "Requirement already satisfied, skipping upgrade: requests-oauthlib>=0.7.0 in /Users/nsh/.pyenv/versions/3.7.2/lib/python3.7/site-packages (from google-auth-oauthlib) (1.3.0)\n",
      "Requirement already satisfied, skipping upgrade: cachetools<5.0,>=2.0.0 in /Users/nsh/.pyenv/versions/3.7.2/lib/python3.7/site-packages (from google-auth>=1.16.0->google-api-python-client) (4.1.1)\n",
      "Requirement already satisfied, skipping upgrade: rsa<5,>=3.1.4; python_version >= \"3.5\" in /Users/nsh/.pyenv/versions/3.7.2/lib/python3.7/site-packages (from google-auth>=1.16.0->google-api-python-client) (4.6)\n",
      "Requirement already satisfied, skipping upgrade: setuptools>=40.3.0 in /Users/nsh/.pyenv/versions/3.7.2/lib/python3.7/site-packages (from google-auth>=1.16.0->google-api-python-client) (40.6.2)\n",
      "Requirement already satisfied, skipping upgrade: pyasn1-modules>=0.2.1 in /Users/nsh/.pyenv/versions/3.7.2/lib/python3.7/site-packages (from google-auth>=1.16.0->google-api-python-client) (0.2.8)\n",
      "Requirement already satisfied, skipping upgrade: protobuf>=3.12.0 in /Users/nsh/.pyenv/versions/3.7.2/lib/python3.7/site-packages (from google-api-core<2dev,>=1.21.0->google-api-python-client) (3.13.0)\n",
      "Requirement already satisfied, skipping upgrade: googleapis-common-protos<2.0dev,>=1.6.0 in /Users/nsh/.pyenv/versions/3.7.2/lib/python3.7/site-packages (from google-api-core<2dev,>=1.21.0->google-api-python-client) (1.52.0)\n",
      "Requirement already satisfied, skipping upgrade: requests<3.0.0dev,>=2.18.0 in /Users/nsh/.pyenv/versions/3.7.2/lib/python3.7/site-packages (from google-api-core<2dev,>=1.21.0->google-api-python-client) (2.24.0)\n",
      "Requirement already satisfied, skipping upgrade: pytz in /Users/nsh/.pyenv/versions/3.7.2/lib/python3.7/site-packages (from google-api-core<2dev,>=1.21.0->google-api-python-client) (2020.1)\n",
      "Requirement already satisfied, skipping upgrade: oauthlib>=3.0.0 in /Users/nsh/.pyenv/versions/3.7.2/lib/python3.7/site-packages (from requests-oauthlib>=0.7.0->google-auth-oauthlib) (3.1.0)\n",
      "Requirement already satisfied, skipping upgrade: pyasn1>=0.1.3 in /Users/nsh/.pyenv/versions/3.7.2/lib/python3.7/site-packages (from rsa<5,>=3.1.4; python_version >= \"3.5\"->google-auth>=1.16.0->google-api-python-client) (0.4.8)\n",
      "Requirement already satisfied, skipping upgrade: urllib3!=1.25.0,!=1.25.1,<1.26,>=1.21.1 in /Users/nsh/.pyenv/versions/3.7.2/lib/python3.7/site-packages (from requests<3.0.0dev,>=2.18.0->google-api-core<2dev,>=1.21.0->google-api-python-client) (1.25.10)\n",
      "Requirement already satisfied, skipping upgrade: certifi>=2017.4.17 in /Users/nsh/.pyenv/versions/3.7.2/lib/python3.7/site-packages (from requests<3.0.0dev,>=2.18.0->google-api-core<2dev,>=1.21.0->google-api-python-client) (2020.6.20)\n",
      "Requirement already satisfied, skipping upgrade: idna<3,>=2.5 in /Users/nsh/.pyenv/versions/3.7.2/lib/python3.7/site-packages (from requests<3.0.0dev,>=2.18.0->google-api-core<2dev,>=1.21.0->google-api-python-client) (2.10)\n",
      "Requirement already satisfied, skipping upgrade: chardet<4,>=3.0.2 in /Users/nsh/.pyenv/versions/3.7.2/lib/python3.7/site-packages (from requests<3.0.0dev,>=2.18.0->google-api-core<2dev,>=1.21.0->google-api-python-client) (3.0.4)\n",
      "Requirement already satisfied: pandas in /Users/nsh/.pyenv/versions/3.7.2/lib/python3.7/site-packages (1.1.3)\n",
      "Requirement already satisfied: numpy>=1.15.4 in /Users/nsh/.pyenv/versions/3.7.2/lib/python3.7/site-packages (from pandas) (1.19.2)\n",
      "Requirement already satisfied: pytz>=2017.2 in /Users/nsh/.pyenv/versions/3.7.2/lib/python3.7/site-packages (from pandas) (2020.1)\n",
      "Requirement already satisfied: python-dateutil>=2.7.3 in /Users/nsh/.pyenv/versions/3.7.2/lib/python3.7/site-packages (from pandas) (2.8.1)\n",
      "Requirement already satisfied: six>=1.5 in /Users/nsh/.pyenv/versions/3.7.2/lib/python3.7/site-packages (from python-dateutil>=2.7.3->pandas) (1.15.0)\n",
      "Collecting xlrd\n",
      "  Downloading xlrd-1.2.0-py2.py3-none-any.whl (103 kB)\n",
      "\u001b[K     |████████████████████████████████| 103 kB 581 kB/s eta 0:00:01\n",
      "\u001b[?25hInstalling collected packages: xlrd\n",
      "Successfully installed xlrd-1.2.0\n"
     ]
    }
   ],
   "source": [
    "# установка необх.библиотек\n",
    "# import sys\n",
    "!pip3 install --upgrade google-api-python-client google-auth-httplib2 google-auth-oauthlib\n",
    "\n",
    "!pip3 install pandas\n",
    "!pip3 install xlrd\n",
    "!pip3 install scipy\n",
    "!pip3 install statsmodels\n",
    "!pip3 install matplotlib\n",
    "!pip3 install seaborn"
   ]
  },
  {
   "cell_type": "code",
   "execution_count": 9,
   "metadata": {},
   "outputs": [],
   "source": [
    "# импорты \n",
    "import io\n",
    "from googleapiclient.http import MediaIoBaseDownload\n",
    "import googleapiclient.discovery\n",
    "from apiclient import discovery\n",
    "from httplib2 import Http\n",
    "import oauth2client\n",
    "from oauth2client import file, client, tools\n",
    "\n",
    "import pandas as pd"
   ]
  },
  {
   "cell_type": "code",
   "execution_count": 13,
   "metadata": {},
   "outputs": [],
   "source": [
    "# проводим аутентификацию через гугловую апишку\n",
    "\n",
    "obj = lambda: None\n",
    "lmao = {\"auth_host_name\":'localhost', 'noauth_local_webserver':'store_true', 'auth_host_port':[8080, 8090], 'logging_level':'ERROR'}\n",
    "for k, v in lmao.items():\n",
    "    setattr(obj, k, v)\n",
    "    \n",
    "# authorization boilerplate code\n",
    "SCOPES = 'https://www.googleapis.com/auth/drive.readonly'\n",
    "store = file.Storage('token.json')\n",
    "creds = store.get()\n",
    "# The following will give you a link if token.json does not exist, the link allows the user to give this app permission\n",
    "if not creds or creds.invalid:\n",
    "    flow = client.flow_from_clientsecrets('credentials.json', SCOPES)\n",
    "    creds = tools.run_flow(flow, store, obj)"
   ]
  },
  {
   "cell_type": "code",
   "execution_count": 28,
   "metadata": {},
   "outputs": [
    {
     "name": "stdout",
     "output_type": "stream",
     "text": [
      "Download 100%.\n"
     ]
    }
   ],
   "source": [
    "# считываем необходимый файл. Удобно забирать прямо с диска - все изменения на диске тянем сразу \n",
    "#  (перезаписываем файл на локальной машине)\n",
    "\n",
    "DRIVE = googleapiclient.discovery.build(serviceName='drive'\n",
    "                                        , version='v3'\n",
    "                                        , http=creds.authorize(Http()))\n",
    "# if you get the shareable link, the link contains this id, replace the file_id below\n",
    "\n",
    "file_id = '16-kZKQIdjeKErkEyPilollVPCj2CHzy1'\n",
    "request = DRIVE.files().get_media(fileId=file_id)\n",
    "# replace the filename and extension in the first field below\n",
    "fh = io.FileIO('solid_split.xlsx', mode='w')\n",
    "downloader = MediaIoBaseDownload(fh, request)\n",
    "done = False\n",
    "while done is False:\n",
    "    status, done = downloader.next_chunk()\n",
    "    print(\"Download %d%%.\" % int(status.progress() * 100)) "
   ]
  },
  {
   "cell_type": "markdown",
   "metadata": {},
   "source": [
    "# Choosing a sample size"
   ]
  },
  {
   "cell_type": "markdown",
   "metadata": {},
   "source": [
    "how many people should we have in each group?\n",
    "\n",
    "The sample size we need is estimated through something called Power analysis, and it depends on a few factors:\n",
    "    # Power of the test (1 — β) — This represents the probability of finding a statistical difference between the groups in our test when a difference is actually present. This is usually set at 0.8 by convention (here’s more info on statistical power, if you are curious)\n",
    "    # Alpha value (α) — The critical value we set earlier to 0.05\n",
    "    # Effect size — How big of a difference we expect there to be between the conversion rates"
   ]
  },
  {
   "cell_type": "code",
   "execution_count": 105,
   "metadata": {},
   "outputs": [
    {
     "name": "stdout",
     "output_type": "stream",
     "text": [
      "We’d need at least 4720 observations for each group\n"
     ]
    }
   ],
   "source": [
    "import numpy as np\n",
    "import pandas as pd\n",
    "import scipy.stats as stats\n",
    "import statsmodels.stats.api as sms\n",
    "import matplotlib as mpl\n",
    "import matplotlib.pyplot as plt\n",
    "import seaborn as sns\n",
    "from math import ceil\n",
    "\n",
    "%matplotlib inline\n",
    "\n",
    "# Some plot styling preferences\n",
    "plt.style.use('seaborn-whitegrid')\n",
    "font = {'family' : 'Helvetica',\n",
    "        'weight' : 'bold',\n",
    "        'size'   : 14}\n",
    "\n",
    "mpl.rc('font', **font)\n",
    "effect_size = sms.proportion_effectsize(0.13, 0.15)    # Calculating effect size based on our expected rates\n",
    "\n",
    "required_n = sms.NormalIndPower().solve_power(\n",
    "    effect_size, \n",
    "    power=0.8, \n",
    "    alpha=0.05, \n",
    "    ratio=1\n",
    "    )                                                  # Calculating sample size needed\n",
    "\n",
    "required_n = ceil(required_n)                          # Rounding up to next whole number                          \n",
    "\n",
    "print(f'We’d need at least {required_n} observations for each group')"
   ]
  },
  {
   "cell_type": "markdown",
   "metadata": {},
   "source": [
    "Having set the power parameter to 0.8 in practice means that if there exists an actual difference in conversion rate between our designs, assuming the difference is the one we estimated (13% vs. 15%), we have about 80% chance to detect it as statistically significant in our test with the sample size we calculated."
   ]
  },
  {
   "cell_type": "code",
   "execution_count": 29,
   "metadata": {},
   "outputs": [],
   "source": [
    "# путь к исходному файлу с результатами теста\n",
    "path_to_file = './solid_split.xlsx'"
   ]
  },
  {
   "cell_type": "code",
   "execution_count": 82,
   "metadata": {},
   "outputs": [
    {
     "data": {
      "text/html": [
       "<div>\n",
       "<style scoped>\n",
       "    .dataframe tbody tr th:only-of-type {\n",
       "        vertical-align: middle;\n",
       "    }\n",
       "\n",
       "    .dataframe tbody tr th {\n",
       "        vertical-align: top;\n",
       "    }\n",
       "\n",
       "    .dataframe thead th {\n",
       "        text-align: right;\n",
       "    }\n",
       "</style>\n",
       "<table border=\"1\" class=\"dataframe\">\n",
       "  <thead>\n",
       "    <tr style=\"text-align: right;\">\n",
       "      <th></th>\n",
       "      <th>DEVICES_BRANDS</th>\n",
       "      <th>BROWSERS</th>\n",
       "      <th>DEVICE_TYPE</th>\n",
       "      <th>Conversion</th>\n",
       "      <th>A/B</th>\n",
       "      <th>config_os</th>\n",
       "      <th>config_os_version</th>\n",
       "      <th>config_resolution</th>\n",
       "      <th>idvisit</th>\n",
       "      <th>platform_v4</th>\n",
       "    </tr>\n",
       "  </thead>\n",
       "  <tbody>\n",
       "    <tr>\n",
       "      <th>10230</th>\n",
       "      <td>Other</td>\n",
       "      <td>CHROME MOBILE</td>\n",
       "      <td>SMARTPHONE</td>\n",
       "      <td>0</td>\n",
       "      <td>new</td>\n",
       "      <td>AND</td>\n",
       "      <td>7</td>\n",
       "      <td>360x640</td>\n",
       "      <td>5830984</td>\n",
       "      <td>MOB</td>\n",
       "    </tr>\n",
       "    <tr>\n",
       "      <th>479</th>\n",
       "      <td>SAMSUNG</td>\n",
       "      <td>CHROME MOBILE</td>\n",
       "      <td>SMARTPHONE</td>\n",
       "      <td>1</td>\n",
       "      <td>old</td>\n",
       "      <td>AND</td>\n",
       "      <td>6</td>\n",
       "      <td>360x640</td>\n",
       "      <td>4128527</td>\n",
       "      <td>MOB</td>\n",
       "    </tr>\n",
       "    <tr>\n",
       "      <th>719</th>\n",
       "      <td>Other</td>\n",
       "      <td>CHROME</td>\n",
       "      <td>DESKTOP</td>\n",
       "      <td>1</td>\n",
       "      <td>old</td>\n",
       "      <td>WIN</td>\n",
       "      <td>10</td>\n",
       "      <td>1366x768</td>\n",
       "      <td>4428088</td>\n",
       "      <td>WEB</td>\n",
       "    </tr>\n",
       "  </tbody>\n",
       "</table>\n",
       "</div>"
      ],
      "text/plain": [
       "      DEVICES_BRANDS       BROWSERS DEVICE_TYPE  Conversion  A/B config_os  \\\n",
       "10230          Other  CHROME MOBILE  SMARTPHONE           0  new       AND   \n",
       "479          SAMSUNG  CHROME MOBILE  SMARTPHONE           1  old       AND   \n",
       "719            Other         CHROME     DESKTOP           1  old       WIN   \n",
       "\n",
       "      config_os_version config_resolution  idvisit platform_v4  \n",
       "10230                 7           360x640  5830984         MOB  \n",
       "479                   6           360x640  4128527         MOB  \n",
       "719                  10          1366x768  4428088         WEB  "
      ]
     },
     "execution_count": 82,
     "metadata": {},
     "output_type": "execute_result"
    }
   ],
   "source": [
    "# чтение файла в датафрейм\n",
    "split = pd.read_excel(path_to_file).fillna('-99')\n",
    "\n",
    "split.sample(3)"
   ]
  },
  {
   "cell_type": "code",
   "execution_count": 95,
   "metadata": {},
   "outputs": [],
   "source": [
    "# No action required: Leave the original dataframe untouched and sort the new dataframe\n",
    "split2 = split.copy()"
   ]
  },
  {
   "cell_type": "code",
   "execution_count": 96,
   "metadata": {},
   "outputs": [
    {
     "data": {
      "text/html": [
       "<div>\n",
       "<style scoped>\n",
       "    .dataframe tbody tr th:only-of-type {\n",
       "        vertical-align: middle;\n",
       "    }\n",
       "\n",
       "    .dataframe tbody tr th {\n",
       "        vertical-align: top;\n",
       "    }\n",
       "\n",
       "    .dataframe thead th {\n",
       "        text-align: right;\n",
       "    }\n",
       "</style>\n",
       "<table border=\"1\" class=\"dataframe\">\n",
       "  <thead>\n",
       "    <tr style=\"text-align: right;\">\n",
       "      <th></th>\n",
       "      <th>DEVICES_BRANDS</th>\n",
       "      <th>BROWSERS</th>\n",
       "      <th>DEVICE_TYPE</th>\n",
       "      <th>Conversion</th>\n",
       "      <th>A/B</th>\n",
       "      <th>config_os</th>\n",
       "      <th>config_os_version</th>\n",
       "      <th>config_resolution</th>\n",
       "      <th>idvisit</th>\n",
       "      <th>platform_v4</th>\n",
       "    </tr>\n",
       "  </thead>\n",
       "  <tbody>\n",
       "    <tr>\n",
       "      <th>13189</th>\n",
       "      <td>Other</td>\n",
       "      <td>CHROME</td>\n",
       "      <td>DESKTOP</td>\n",
       "      <td>0</td>\n",
       "      <td>new</td>\n",
       "      <td>WIN</td>\n",
       "      <td>10</td>\n",
       "      <td>1536x864</td>\n",
       "      <td>4985802</td>\n",
       "      <td>WEB</td>\n",
       "    </tr>\n",
       "    <tr>\n",
       "      <th>4702</th>\n",
       "      <td>SAMSUNG</td>\n",
       "      <td>CHROME MOBILE</td>\n",
       "      <td>SMARTPHONE</td>\n",
       "      <td>0</td>\n",
       "      <td>old</td>\n",
       "      <td>AND</td>\n",
       "      <td>8</td>\n",
       "      <td>320x658</td>\n",
       "      <td>4138834</td>\n",
       "      <td>MOB</td>\n",
       "    </tr>\n",
       "    <tr>\n",
       "      <th>11623</th>\n",
       "      <td>SAMSUNG</td>\n",
       "      <td>CHROME MOBILE</td>\n",
       "      <td>SMARTPHONE</td>\n",
       "      <td>0</td>\n",
       "      <td>new</td>\n",
       "      <td>AND</td>\n",
       "      <td>7</td>\n",
       "      <td>360x640</td>\n",
       "      <td>5063679</td>\n",
       "      <td>MOB</td>\n",
       "    </tr>\n",
       "    <tr>\n",
       "      <th>14096</th>\n",
       "      <td>APPLE</td>\n",
       "      <td>MOBILE SAFARI</td>\n",
       "      <td>SMARTPHONE</td>\n",
       "      <td>0</td>\n",
       "      <td>new</td>\n",
       "      <td>IOS</td>\n",
       "      <td>11.4</td>\n",
       "      <td>375x667</td>\n",
       "      <td>5020533</td>\n",
       "      <td>MOB</td>\n",
       "    </tr>\n",
       "    <tr>\n",
       "      <th>26317</th>\n",
       "      <td>Other</td>\n",
       "      <td>CHROME</td>\n",
       "      <td>SMARTPHONE</td>\n",
       "      <td>0</td>\n",
       "      <td>new</td>\n",
       "      <td>AND</td>\n",
       "      <td>4.2</td>\n",
       "      <td>768x1024</td>\n",
       "      <td>6152675</td>\n",
       "      <td>WEB</td>\n",
       "    </tr>\n",
       "    <tr>\n",
       "      <th>5829</th>\n",
       "      <td>Other</td>\n",
       "      <td>Other</td>\n",
       "      <td>SMARTPHONE</td>\n",
       "      <td>0</td>\n",
       "      <td>new</td>\n",
       "      <td>AND</td>\n",
       "      <td>5</td>\n",
       "      <td>360x640</td>\n",
       "      <td>5070680</td>\n",
       "      <td>MOB</td>\n",
       "    </tr>\n",
       "  </tbody>\n",
       "</table>\n",
       "</div>"
      ],
      "text/plain": [
       "      DEVICES_BRANDS       BROWSERS DEVICE_TYPE  Conversion  A/B config_os  \\\n",
       "13189          Other         CHROME     DESKTOP           0  new       WIN   \n",
       "4702         SAMSUNG  CHROME MOBILE  SMARTPHONE           0  old       AND   \n",
       "11623        SAMSUNG  CHROME MOBILE  SMARTPHONE           0  new       AND   \n",
       "14096          APPLE  MOBILE SAFARI  SMARTPHONE           0  new       IOS   \n",
       "26317          Other         CHROME  SMARTPHONE           0  new       AND   \n",
       "5829           Other          Other  SMARTPHONE           0  new       AND   \n",
       "\n",
       "      config_os_version config_resolution  idvisit platform_v4  \n",
       "13189                10          1536x864  4985802         WEB  \n",
       "4702                  8           320x658  4138834         MOB  \n",
       "11623                 7           360x640  5063679         MOB  \n",
       "14096              11.4           375x667  5020533         MOB  \n",
       "26317               4.2          768x1024  6152675         WEB  \n",
       "5829                  5           360x640  5070680         MOB  "
      ]
     },
     "execution_count": 96,
     "metadata": {},
     "output_type": "execute_result"
    }
   ],
   "source": [
    "split2.sample(6)"
   ]
  },
  {
   "cell_type": "markdown",
   "metadata": {},
   "source": [
    "1) нету даты, за какой период результаты + в какой день получаем буст???\n",
    "2) хотелось бы проверить по юзеру или по куки файлу не было ли повторных транзакций у форме"
   ]
  },
  {
   "cell_type": "code",
   "execution_count": 99,
   "metadata": {},
   "outputs": [
    {
     "name": "stdout",
     "output_type": "stream",
     "text": [
      "There are 0 users that appear multiple times in the dataset\n"
     ]
    }
   ],
   "source": [
    "# из-за отсутствия id_user сделаю проверку по идентификатору визита\n",
    "session_counts = split2['idvisit'].value_counts(ascending=False)\n",
    "multi_visit = session_counts[session_counts > 1].count()\n",
    "\n",
    "print(f'There are {multi_visit} users that appear multiple times in the dataset')\n",
    "\n",
    "# окей с отсутствием дублей"
   ]
  },
  {
   "cell_type": "code",
   "execution_count": 85,
   "metadata": {},
   "outputs": [],
   "source": [
    "# список измерений для группировки и вычислений\n",
    "diminsion_col = ['DEVICES_BRANDS', 'BROWSERS', 'DEVICE_TYPE', 'Conversion'\n",
    "                 , 'A/B', 'config_os', 'config_resolution', 'platform_v4']"
   ]
  },
  {
   "cell_type": "code",
   "execution_count": 86,
   "metadata": {},
   "outputs": [
    {
     "data": {
      "text/html": [
       "<div>\n",
       "<style scoped>\n",
       "    .dataframe tbody tr th:only-of-type {\n",
       "        vertical-align: middle;\n",
       "    }\n",
       "\n",
       "    .dataframe tbody tr th {\n",
       "        vertical-align: top;\n",
       "    }\n",
       "\n",
       "    .dataframe thead th {\n",
       "        text-align: right;\n",
       "    }\n",
       "</style>\n",
       "<table border=\"1\" class=\"dataframe\">\n",
       "  <thead>\n",
       "    <tr style=\"text-align: right;\">\n",
       "      <th></th>\n",
       "      <th>DEVICES_BRANDS</th>\n",
       "      <th>BROWSERS</th>\n",
       "      <th>DEVICE_TYPE</th>\n",
       "      <th>Conversion</th>\n",
       "      <th>A/B</th>\n",
       "      <th>config_os</th>\n",
       "      <th>config_resolution</th>\n",
       "      <th>platform_v4</th>\n",
       "      <th>visit_cnt</th>\n",
       "    </tr>\n",
       "  </thead>\n",
       "  <tbody>\n",
       "    <tr>\n",
       "      <th>26094</th>\n",
       "      <td>Other</td>\n",
       "      <td>CHROME MOBILE</td>\n",
       "      <td>SMARTPHONE</td>\n",
       "      <td>0</td>\n",
       "      <td>old</td>\n",
       "      <td>AND</td>\n",
       "      <td>360x720</td>\n",
       "      <td>MOB</td>\n",
       "      <td>768</td>\n",
       "    </tr>\n",
       "    <tr>\n",
       "      <th>1009</th>\n",
       "      <td>SAMSUNG</td>\n",
       "      <td>CHROME MOBILE</td>\n",
       "      <td>SMARTPHONE</td>\n",
       "      <td>1</td>\n",
       "      <td>old</td>\n",
       "      <td>AND</td>\n",
       "      <td>360x640</td>\n",
       "      <td>MOB</td>\n",
       "      <td>108</td>\n",
       "    </tr>\n",
       "    <tr>\n",
       "      <th>23582</th>\n",
       "      <td>Other</td>\n",
       "      <td>CHROME MOBILE</td>\n",
       "      <td>SMARTPHONE</td>\n",
       "      <td>0</td>\n",
       "      <td>old</td>\n",
       "      <td>AND</td>\n",
       "      <td>360x640</td>\n",
       "      <td>MOB</td>\n",
       "      <td>3565</td>\n",
       "    </tr>\n",
       "  </tbody>\n",
       "</table>\n",
       "</div>"
      ],
      "text/plain": [
       "      DEVICES_BRANDS       BROWSERS DEVICE_TYPE  Conversion  A/B config_os  \\\n",
       "26094          Other  CHROME MOBILE  SMARTPHONE           0  old       AND   \n",
       "1009         SAMSUNG  CHROME MOBILE  SMARTPHONE           1  old       AND   \n",
       "23582          Other  CHROME MOBILE  SMARTPHONE           0  old       AND   \n",
       "\n",
       "      config_resolution platform_v4  visit_cnt  \n",
       "26094           360x720         MOB        768  \n",
       "1009            360x640         MOB        108  \n",
       "23582           360x640         MOB       3565  "
      ]
     },
     "execution_count": 86,
     "metadata": {},
     "output_type": "execute_result"
    }
   ],
   "source": [
    "# считаем кол-во визитов в разрезе необходимых измерений\n",
    "split2['visit_cnt'] = split2.groupby(diminsion_col)['idvisit'].transform('count')\n",
    "\n",
    "\n",
    "split2 = split2.astype({\"visit_cnt\": int}, errors='ignore')\n",
    "\n",
    "split2 = split2.filter(['DEVICES_BRANDS', 'BROWSERS', 'DEVICE_TYPE', 'Conversion'\n",
    "                 , 'A/B', 'config_os', 'config_resolution', 'platform_v4', 'visit_cnt'])\n",
    "\n",
    "split2.sample(3)"
   ]
  },
  {
   "cell_type": "code",
   "execution_count": 101,
   "metadata": {},
   "outputs": [
    {
     "data": {
      "text/html": [
       "<div>\n",
       "<style scoped>\n",
       "    .dataframe tbody tr th:only-of-type {\n",
       "        vertical-align: middle;\n",
       "    }\n",
       "\n",
       "    .dataframe tbody tr th {\n",
       "        vertical-align: top;\n",
       "    }\n",
       "\n",
       "    .dataframe thead th {\n",
       "        text-align: right;\n",
       "    }\n",
       "</style>\n",
       "<table border=\"1\" class=\"dataframe\">\n",
       "  <thead>\n",
       "    <tr style=\"text-align: right;\">\n",
       "      <th>Conversion</th>\n",
       "      <th>0</th>\n",
       "      <th>1</th>\n",
       "      <th>Total</th>\n",
       "    </tr>\n",
       "    <tr>\n",
       "      <th>A/B</th>\n",
       "      <th></th>\n",
       "      <th></th>\n",
       "      <th></th>\n",
       "    </tr>\n",
       "  </thead>\n",
       "  <tbody>\n",
       "    <tr>\n",
       "      <th>new</th>\n",
       "      <td>13564</td>\n",
       "      <td>1865</td>\n",
       "      <td>15429</td>\n",
       "    </tr>\n",
       "    <tr>\n",
       "      <th>old</th>\n",
       "      <td>9806</td>\n",
       "      <td>1350</td>\n",
       "      <td>11156</td>\n",
       "    </tr>\n",
       "    <tr>\n",
       "      <th>Total</th>\n",
       "      <td>23370</td>\n",
       "      <td>3215</td>\n",
       "      <td>26585</td>\n",
       "    </tr>\n",
       "  </tbody>\n",
       "</table>\n",
       "</div>"
      ],
      "text/plain": [
       "Conversion      0     1  Total\n",
       "A/B                           \n",
       "new         13564  1865  15429\n",
       "old          9806  1350  11156\n",
       "Total       23370  3215  26585"
      ]
     },
     "execution_count": 101,
     "metadata": {},
     "output_type": "execute_result"
    }
   ],
   "source": [
    "# что там по конверсии в разных группах?\n",
    "pd.crosstab(split2['A/B'], split2['Conversion'], margins=True, margins_name=\"Total\")"
   ]
  },
  {
   "cell_type": "markdown",
   "metadata": {},
   "source": [
    "## Sampling"
   ]
  },
  {
   "cell_type": "code",
   "execution_count": 114,
   "metadata": {},
   "outputs": [
    {
     "data": {
      "text/html": [
       "<div>\n",
       "<style scoped>\n",
       "    .dataframe tbody tr th:only-of-type {\n",
       "        vertical-align: middle;\n",
       "    }\n",
       "\n",
       "    .dataframe tbody tr th {\n",
       "        vertical-align: top;\n",
       "    }\n",
       "\n",
       "    .dataframe thead th {\n",
       "        text-align: right;\n",
       "    }\n",
       "</style>\n",
       "<table border=\"1\" class=\"dataframe\">\n",
       "  <thead>\n",
       "    <tr style=\"text-align: right;\">\n",
       "      <th></th>\n",
       "      <th>DEVICES_BRANDS</th>\n",
       "      <th>BROWSERS</th>\n",
       "      <th>DEVICE_TYPE</th>\n",
       "      <th>Conversion</th>\n",
       "      <th>A/B</th>\n",
       "      <th>config_os</th>\n",
       "      <th>config_os_version</th>\n",
       "      <th>config_resolution</th>\n",
       "      <th>idvisit</th>\n",
       "      <th>platform_v4</th>\n",
       "    </tr>\n",
       "  </thead>\n",
       "  <tbody>\n",
       "    <tr>\n",
       "      <th>2915</th>\n",
       "      <td>Other</td>\n",
       "      <td>CHROME MOBILE</td>\n",
       "      <td>SMARTPHONE</td>\n",
       "      <td>1</td>\n",
       "      <td>old</td>\n",
       "      <td>AND</td>\n",
       "      <td>5</td>\n",
       "      <td>360x640</td>\n",
       "      <td>4102655</td>\n",
       "      <td>MOB</td>\n",
       "    </tr>\n",
       "    <tr>\n",
       "      <th>1908</th>\n",
       "      <td>APPLE</td>\n",
       "      <td>MOBILE SAFARI</td>\n",
       "      <td>SMARTPHONE</td>\n",
       "      <td>0</td>\n",
       "      <td>old</td>\n",
       "      <td>IOS</td>\n",
       "      <td>10.3</td>\n",
       "      <td>320x568</td>\n",
       "      <td>4784189</td>\n",
       "      <td>MOB</td>\n",
       "    </tr>\n",
       "    <tr>\n",
       "      <th>6157</th>\n",
       "      <td>SAMSUNG</td>\n",
       "      <td>CHROME MOBILE</td>\n",
       "      <td>PHABLET</td>\n",
       "      <td>0</td>\n",
       "      <td>old</td>\n",
       "      <td>AND</td>\n",
       "      <td>6</td>\n",
       "      <td>360x640</td>\n",
       "      <td>4403273</td>\n",
       "      <td>MOB</td>\n",
       "    </tr>\n",
       "  </tbody>\n",
       "</table>\n",
       "</div>"
      ],
      "text/plain": [
       "     DEVICES_BRANDS       BROWSERS DEVICE_TYPE  Conversion  A/B config_os  \\\n",
       "2915          Other  CHROME MOBILE  SMARTPHONE           1  old       AND   \n",
       "1908          APPLE  MOBILE SAFARI  SMARTPHONE           0  old       IOS   \n",
       "6157        SAMSUNG  CHROME MOBILE     PHABLET           0  old       AND   \n",
       "\n",
       "     config_os_version config_resolution  idvisit platform_v4  \n",
       "2915                 5           360x640  4102655         MOB  \n",
       "1908              10.3           320x568  4784189         MOB  \n",
       "6157                 6           360x640  4403273         MOB  "
      ]
     },
     "execution_count": 114,
     "metadata": {},
     "output_type": "execute_result"
    }
   ],
   "source": [
    "# random_state=22 для воспроизводимости результатов\n",
    "control_sample = split2[split2['A/B'] == 'old'].sample(10000)# sample(n=required_n, random_state=22)\n",
    "test_sample = split2[split2['A/B'] == 'new'].sample(10000)# sample(n=required_n, random_state=22)\n",
    "\n",
    "ab_test = pd.concat([control_sample, test_sample], axis=0)\n",
    "ab_test.reset_index(drop=True, inplace=True)\n",
    "\n",
    "ab_test.sample(3)"
   ]
  },
  {
   "cell_type": "markdown",
   "metadata": {},
   "source": [
    "## Visualising the results"
   ]
  },
  {
   "cell_type": "code",
   "execution_count": 115,
   "metadata": {},
   "outputs": [
    {
     "data": {
      "text/html": [
       "<style  type=\"text/css\" >\n",
       "</style><table id=\"T_560a66f6_0bbd_11eb_a06b_acde48001122\" ><thead>    <tr>        <th class=\"blank level0\" ></th>        <th class=\"col_heading level0 col0\" >conversion_rate</th>        <th class=\"col_heading level0 col1\" >std_deviation</th>        <th class=\"col_heading level0 col2\" >std_error</th>    </tr>    <tr>        <th class=\"index_name level0\" >A/B</th>        <th class=\"blank\" ></th>        <th class=\"blank\" ></th>        <th class=\"blank\" ></th>    </tr></thead><tbody>\n",
       "                <tr>\n",
       "                        <th id=\"T_560a66f6_0bbd_11eb_a06b_acde48001122level0_row0\" class=\"row_heading level0 row0\" >new</th>\n",
       "                        <td id=\"T_560a66f6_0bbd_11eb_a06b_acde48001122row0_col0\" class=\"data row0 col0\" >0.118</td>\n",
       "                        <td id=\"T_560a66f6_0bbd_11eb_a06b_acde48001122row0_col1\" class=\"data row0 col1\" >0.322</td>\n",
       "                        <td id=\"T_560a66f6_0bbd_11eb_a06b_acde48001122row0_col2\" class=\"data row0 col2\" >0.003</td>\n",
       "            </tr>\n",
       "            <tr>\n",
       "                        <th id=\"T_560a66f6_0bbd_11eb_a06b_acde48001122level0_row1\" class=\"row_heading level0 row1\" >old</th>\n",
       "                        <td id=\"T_560a66f6_0bbd_11eb_a06b_acde48001122row1_col0\" class=\"data row1 col0\" >0.122</td>\n",
       "                        <td id=\"T_560a66f6_0bbd_11eb_a06b_acde48001122row1_col1\" class=\"data row1 col1\" >0.327</td>\n",
       "                        <td id=\"T_560a66f6_0bbd_11eb_a06b_acde48001122row1_col2\" class=\"data row1 col2\" >0.003</td>\n",
       "            </tr>\n",
       "    </tbody></table>"
      ],
      "text/plain": [
       "<pandas.io.formats.style.Styler at 0x1208b7dd8>"
      ]
     },
     "execution_count": 115,
     "metadata": {},
     "output_type": "execute_result"
    }
   ],
   "source": [
    "conversion_rates = ab_test.groupby('A/B')['Conversion']\n",
    "\n",
    "std_p = lambda x: np.std(x, ddof=0)              # Std. deviation of the proportion\n",
    "se_p = lambda x: stats.sem(x, ddof=0)            # Std. error of the proportion (std / sqrt(n))\n",
    "\n",
    "conversion_rates = conversion_rates.agg([np.mean, std_p, se_p])\n",
    "conversion_rates.columns = ['conversion_rate', 'std_deviation', 'std_error']\n",
    "\n",
    "\n",
    "conversion_rates.style.format('{:.3f}')"
   ]
  },
  {
   "cell_type": "code",
   "execution_count": 116,
   "metadata": {},
   "outputs": [
    {
     "data": {
      "image/png": "[encoded data removed]",
      "text/plain": [
       "<Figure size 576x432 with 1 Axes>"
      ]
     },
     "metadata": {},
     "output_type": "display_data"
    }
   ],
   "source": [
    "plt.figure(figsize=(8,6))\n",
    "\n",
    "sns.barplot(x=ab_test['A/B'], y=ab_test['Conversion'], ci=False)\n",
    "\n",
    "plt.ylim(0, 0.17)\n",
    "plt.title('Conversion rate by group', pad=20)\n",
    "plt.xlabel('Group', labelpad=15)\n",
    "plt.ylabel('Converted (proportion)', labelpad=15);"
   ]
  },
  {
   "cell_type": "markdown",
   "metadata": {},
   "source": [
    "## Segment Summary"
   ]
  },
  {
   "cell_type": "code",
   "execution_count": 45,
   "metadata": {},
   "outputs": [],
   "source": [
    "# List of names of unique names of the segments\n",
    "brows_list = list(split2['BROWSERS'].unique())\n",
    "dev_br_list = list(split2['DEVICES_BRANDS'].unique())\n",
    "dev_type_list = list(split2['DEVICE_TYPE'].unique())\n",
    "platf_list = list(split2['platform_v4'].unique())"
   ]
  },
  {
   "cell_type": "code",
   "execution_count": 48,
   "metadata": {},
   "outputs": [
    {
     "name": "stdout",
     "output_type": "stream",
     "text": [
      "Different brow:  ['CHROME MOBILE', 'Other', 'MOBILE SAFARI', 'CHROME', 'FIREFOX'] Number of segments:  5\n",
      "Different dev brand:  ['Other', 'SAMSUNG', 'APPLE', 'HUAWEI'] Number of segments:  4\n",
      "Different device type:  ['SMARTPHONE', nan, 'PHABLET', 'DESKTOP', 'TABLET', 'PORTABLE_MEDIA_PAYER'] Number of segments:  6\n",
      "Different version platform:  ['MOB', 'WEB'] Number of segments:  2\n"
     ]
    }
   ],
   "source": [
    "# Count of the number of segments (or total test variations)\n",
    "variations_brows = len(brows_list)\n",
    "variations_dev_brand = len(dev_br_list)\n",
    "variations_dev_type = len(dev_type_list)\n",
    "variations_platf = len(platf_list)\n",
    "\n",
    "# Verify that the segments/categories are correct \n",
    "print('Different brow: ',brows_list, 'Number of segments: ', variations_brows)\n",
    "print('Different dev brand: ',dev_br_list, 'Number of segments: ', variations_dev_brand)\n",
    "print('Different device type: ',dev_type_list, 'Number of segments: ', variations_dev_type)\n",
    "print('Different version platform: ',platf_list, 'Number of segments: ', variations_platf)"
   ]
  },
  {
   "cell_type": "markdown",
   "metadata": {},
   "source": [
    "в разрезе формы A/B (old, new) - conv=1\n",
    "в разрезе платформ\n"
   ]
  }
 ],
 "metadata": {
  "kernelspec": {
   "display_name": "Python 3",
   "language": "python",
   "name": "python3"
  },
  "language_info": {
   "codemirror_mode": {
    "name": "ipython",
    "version": 3
   },
   "file_extension": ".py",
   "mimetype": "text/x-python",
   "name": "python",
   "nbconvert_exporter": "python",
   "pygments_lexer": "ipython3",
   "version": "3.7.2"
  }
 },
 "nbformat": 4,
 "nbformat_minor": 4
}
