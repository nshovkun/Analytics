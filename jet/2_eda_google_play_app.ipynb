{
 "cells": [
  {
   "cell_type": "code",
   "execution_count": 2,
   "metadata": {},
   "outputs": [
    {
     "name": "stdout",
     "output_type": "stream",
     "text": [
      "Archive:  ./data/archive.zip\n",
      "  inflating: ./data/unzipped/googleplaystore.csv  \n",
      "  inflating: ./data/unzipped/googleplaystore_user_reviews.csv  \n",
      "  inflating: ./data/unzipped/license.txt  \n"
     ]
    }
   ],
   "source": [
    "# create new directory and unpacking the archive with data and remove the origin archive\n",
    "!mkdir ./data/unzipped && unzip ./data/archive.zip -d ./data/unzipped && rm ./data/archive.zip"
   ]
  },
  {
   "cell_type": "markdown",
   "metadata": {},
   "source": [
    "## Data set from [Kaggle](https://www.kaggle.com/lava18/google-play-store-apps)\n",
    "Web scraped data of 10k Play Store apps for analysing the Android market.\n",
    "\n",
    "*This information is scraped from the Google Play Store. This app information would not be available without it.*\n",
    "\n",
    "- **googleplaystore**. details of the applications on Google Play. \n",
    "- **googleplaystore_user_reviews**\n",
    "This file contains the first 'most relevant' 100 reviews for each app. Each review text/comment has been pre-processed and attributed with 3 new features - Sentiment, Sentiment Polarity and Sentiment Subjectivity."
   ]
  }
 ],
 "metadata": {
  "kernelspec": {
   "display_name": "Python 3",
   "language": "python",
   "name": "python3"
  },
  "language_info": {
   "codemirror_mode": {
    "name": "ipython",
    "version": 3
   },
   "file_extension": ".py",
   "mimetype": "text/x-python",
   "name": "python",
   "nbconvert_exporter": "python",
   "pygments_lexer": "ipython3",
   "version": "3.6.9"
  }
 },
 "nbformat": 4,
 "nbformat_minor": 2
}
