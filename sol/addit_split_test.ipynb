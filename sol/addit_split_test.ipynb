{
 "cells": [
  {
   "cell_type": "code",
   "execution_count": 32,
   "metadata": {
    "collapsed": true
   },
   "outputs": [
    {
     "name": "stdout",
     "output_type": "stream",
     "text": [
      "Requirement already up-to-date: google-api-python-client in /Users/nsh/.pyenv/versions/3.7.2/lib/python3.7/site-packages (1.12.3)\n",
      "Requirement already up-to-date: google-auth-httplib2 in /Users/nsh/.pyenv/versions/3.7.2/lib/python3.7/site-packages (0.0.4)\n",
      "Requirement already up-to-date: google-auth-oauthlib in /Users/nsh/.pyenv/versions/3.7.2/lib/python3.7/site-packages (0.4.1)\n",
      "Requirement already satisfied, skipping upgrade: google-auth>=1.16.0 in /Users/nsh/.pyenv/versions/3.7.2/lib/python3.7/site-packages (from google-api-python-client) (1.22.1)\n",
      "Requirement already satisfied, skipping upgrade: uritemplate<4dev,>=3.0.0 in /Users/nsh/.pyenv/versions/3.7.2/lib/python3.7/site-packages (from google-api-python-client) (3.0.1)\n",
      "Requirement already satisfied, skipping upgrade: google-api-core<2dev,>=1.21.0 in /Users/nsh/.pyenv/versions/3.7.2/lib/python3.7/site-packages (from google-api-python-client) (1.22.4)\n",
      "Requirement already satisfied, skipping upgrade: httplib2<1dev,>=0.15.0 in /Users/nsh/.pyenv/versions/3.7.2/lib/python3.7/site-packages (from google-api-python-client) (0.18.1)\n",
      "Requirement already satisfied, skipping upgrade: six<2dev,>=1.13.0 in /Users/nsh/.pyenv/versions/3.7.2/lib/python3.7/site-packages (from google-api-python-client) (1.15.0)\n",
      "Requirement already satisfied, skipping upgrade: requests-oauthlib>=0.7.0 in /Users/nsh/.pyenv/versions/3.7.2/lib/python3.7/site-packages (from google-auth-oauthlib) (1.3.0)\n",
      "Requirement already satisfied, skipping upgrade: cachetools<5.0,>=2.0.0 in /Users/nsh/.pyenv/versions/3.7.2/lib/python3.7/site-packages (from google-auth>=1.16.0->google-api-python-client) (4.1.1)\n",
      "Requirement already satisfied, skipping upgrade: rsa<5,>=3.1.4; python_version >= \"3.5\" in /Users/nsh/.pyenv/versions/3.7.2/lib/python3.7/site-packages (from google-auth>=1.16.0->google-api-python-client) (4.6)\n",
      "Requirement already satisfied, skipping upgrade: setuptools>=40.3.0 in /Users/nsh/.pyenv/versions/3.7.2/lib/python3.7/site-packages (from google-auth>=1.16.0->google-api-python-client) (40.6.2)\n",
      "Requirement already satisfied, skipping upgrade: pyasn1-modules>=0.2.1 in /Users/nsh/.pyenv/versions/3.7.2/lib/python3.7/site-packages (from google-auth>=1.16.0->google-api-python-client) (0.2.8)\n",
      "Requirement already satisfied, skipping upgrade: protobuf>=3.12.0 in /Users/nsh/.pyenv/versions/3.7.2/lib/python3.7/site-packages (from google-api-core<2dev,>=1.21.0->google-api-python-client) (3.13.0)\n",
      "Requirement already satisfied, skipping upgrade: googleapis-common-protos<2.0dev,>=1.6.0 in /Users/nsh/.pyenv/versions/3.7.2/lib/python3.7/site-packages (from google-api-core<2dev,>=1.21.0->google-api-python-client) (1.52.0)\n",
      "Requirement already satisfied, skipping upgrade: requests<3.0.0dev,>=2.18.0 in /Users/nsh/.pyenv/versions/3.7.2/lib/python3.7/site-packages (from google-api-core<2dev,>=1.21.0->google-api-python-client) (2.24.0)\n",
      "Requirement already satisfied, skipping upgrade: pytz in /Users/nsh/.pyenv/versions/3.7.2/lib/python3.7/site-packages (from google-api-core<2dev,>=1.21.0->google-api-python-client) (2020.1)\n",
      "Requirement already satisfied, skipping upgrade: oauthlib>=3.0.0 in /Users/nsh/.pyenv/versions/3.7.2/lib/python3.7/site-packages (from requests-oauthlib>=0.7.0->google-auth-oauthlib) (3.1.0)\n",
      "Requirement already satisfied, skipping upgrade: pyasn1>=0.1.3 in /Users/nsh/.pyenv/versions/3.7.2/lib/python3.7/site-packages (from rsa<5,>=3.1.4; python_version >= \"3.5\"->google-auth>=1.16.0->google-api-python-client) (0.4.8)\n",
      "Requirement already satisfied, skipping upgrade: urllib3!=1.25.0,!=1.25.1,<1.26,>=1.21.1 in /Users/nsh/.pyenv/versions/3.7.2/lib/python3.7/site-packages (from requests<3.0.0dev,>=2.18.0->google-api-core<2dev,>=1.21.0->google-api-python-client) (1.25.10)\n",
      "Requirement already satisfied, skipping upgrade: certifi>=2017.4.17 in /Users/nsh/.pyenv/versions/3.7.2/lib/python3.7/site-packages (from requests<3.0.0dev,>=2.18.0->google-api-core<2dev,>=1.21.0->google-api-python-client) (2020.6.20)\n",
      "Requirement already satisfied, skipping upgrade: idna<3,>=2.5 in /Users/nsh/.pyenv/versions/3.7.2/lib/python3.7/site-packages (from requests<3.0.0dev,>=2.18.0->google-api-core<2dev,>=1.21.0->google-api-python-client) (2.10)\n",
      "Requirement already satisfied, skipping upgrade: chardet<4,>=3.0.2 in /Users/nsh/.pyenv/versions/3.7.2/lib/python3.7/site-packages (from requests<3.0.0dev,>=2.18.0->google-api-core<2dev,>=1.21.0->google-api-python-client) (3.0.4)\n",
      "Requirement already satisfied: pandas in /Users/nsh/.pyenv/versions/3.7.2/lib/python3.7/site-packages (1.1.3)\n",
      "Requirement already satisfied: numpy>=1.15.4 in /Users/nsh/.pyenv/versions/3.7.2/lib/python3.7/site-packages (from pandas) (1.19.2)\n",
      "Requirement already satisfied: pytz>=2017.2 in /Users/nsh/.pyenv/versions/3.7.2/lib/python3.7/site-packages (from pandas) (2020.1)\n",
      "Requirement already satisfied: python-dateutil>=2.7.3 in /Users/nsh/.pyenv/versions/3.7.2/lib/python3.7/site-packages (from pandas) (2.8.1)\n",
      "Requirement already satisfied: six>=1.5 in /Users/nsh/.pyenv/versions/3.7.2/lib/python3.7/site-packages (from python-dateutil>=2.7.3->pandas) (1.15.0)\n",
      "Collecting xlrd\n",
      "  Downloading xlrd-1.2.0-py2.py3-none-any.whl (103 kB)\n",
      "\u001b[K     |████████████████████████████████| 103 kB 581 kB/s eta 0:00:01\n",
      "\u001b[?25hInstalling collected packages: xlrd\n",
      "Successfully installed xlrd-1.2.0\n"
     ]
    }
   ],
   "source": [
    "# установка необх.библиотек\n",
    "# import sys\n",
    "!pip3 install --upgrade google-api-python-client google-auth-httplib2 google-auth-oauthlib\n",
    "\n",
    "!pip3 install pandas\n",
    "!pip3 install xlrd\n",
    "!pip3 install scipy\n",
    "!pip3 install statsmodels\n",
    "!pip3 install matplotlib\n",
    "!pip3 install seaborn"
   ]
  },
  {
   "cell_type": "code",
   "execution_count": 8,
   "metadata": {},
   "outputs": [],
   "source": [
    "# импорты \n",
    "import io\n",
    "from googleapiclient.http import MediaIoBaseDownload\n",
    "import googleapiclient.discovery\n",
    "from apiclient import discovery\n",
    "from httplib2 import Http\n",
    "import oauth2client\n",
    "from oauth2client import file, client, tools\n",
    "\n",
    "import pandas as pd\n",
    "import numpy as np\n",
    "import pandas as pd\n",
    "import scipy.stats as stats\n",
    "import statsmodels.stats.api as sms\n",
    "import matplotlib as mpl\n",
    "import matplotlib.pyplot as plt\n",
    "import seaborn as sns\n",
    "from math import ceil"
   ]
  },
  {
   "cell_type": "code",
   "execution_count": 59,
   "metadata": {},
   "outputs": [],
   "source": [
    "# немного настроек для графиков\n",
    "%matplotlib inline\n",
    "\n",
    "# Some plot styling preferences\n",
    "plt.style.use('seaborn-whitegrid')\n",
    "font = {'family' : 'Helvetica',\n",
    "        'weight' : 'bold',\n",
    "        'size'   : 14}                                              "
   ]
  },
  {
   "cell_type": "code",
   "execution_count": 3,
   "metadata": {},
   "outputs": [
    {
     "name": "stderr",
     "output_type": "stream",
     "text": [
      "/Users/nsh/.pyenv/versions/3.7.2/lib/python3.7/site-packages/oauth2client/_helpers.py:255: UserWarning: Cannot access token.json: No such file or directory\n",
      "  warnings.warn(_MISSING_FILE_MESSAGE.format(filename))\n"
     ]
    },
    {
     "name": "stdout",
     "output_type": "stream",
     "text": [
      "\n",
      "Go to the following link in your browser:\n",
      "\n",
      "    https://accounts.google.com/o/oauth2/auth?client_id=783548059285-jduaap6ga9va97jpeit08lfaohlq1bvv.apps.googleusercontent.com&redirect_uri=urn%3Aietf%3Awg%3Aoauth%3A2.0%3Aoob&scope=https%3A%2F%2Fwww.googleapis.com%2Fauth%2Fdrive.readonly&access_type=offline&response_type=code\n",
      "\n",
      "Enter verification code: 4/1AfDhmrimGjVvJ8VDSny1Fyb5Jj2r-iHyT588-DlTIU43YtXEn4Sf7soXwQs\n",
      "Authentication successful.\n"
     ]
    }
   ],
   "source": [
    "# проводим аутентификацию через гугловую апишку\n",
    "\n",
    "obj = lambda: None\n",
    "lmao = {\"auth_host_name\":'localhost', 'noauth_local_webserver':'store_true', 'auth_host_port':[8080, 8090], 'logging_level':'ERROR'}\n",
    "for k, v in lmao.items():\n",
    "    setattr(obj, k, v)\n",
    "    \n",
    "# authorization boilerplate code\n",
    "SCOPES = 'https://www.googleapis.com/auth/drive.readonly'\n",
    "store = file.Storage('token.json')\n",
    "creds = store.get()\n",
    "# The following will give you a link if token.json does not exist, the link allows the user to give this app permission\n",
    "if not creds or creds.invalid:\n",
    "    flow = client.flow_from_clientsecrets('credential/credentials.json', SCOPES)\n",
    "    creds = tools.run_flow(flow, store, obj)"
   ]
  },
  {
   "cell_type": "code",
   "execution_count": 4,
   "metadata": {},
   "outputs": [],
   "source": [
    "# путь к исходному файлу с результатами теста\n",
    "path_to_file = './data/split_form.xlsx'"
   ]
  },
  {
   "cell_type": "code",
   "execution_count": 87,
   "metadata": {},
   "outputs": [
    {
     "name": "stdout",
     "output_type": "stream",
     "text": [
      "Download 100%.\n"
     ]
    }
   ],
   "source": [
    "# считываем необходимый файл. Удобно забирать прямо с диска - все изменения на диске тянем сразу \n",
    "#  (перезаписываем файл на локальной машине)\n",
    "\n",
    "DRIVE = googleapiclient.discovery.build(serviceName='drive'\n",
    "                                        , version='v3'\n",
    "                                        , http=creds.authorize(Http()))\n",
    "# if you get the shareable link, the link contains this id, replace the file_id below\n",
    "\n",
    "file_id = '16-kZKQIdjeKErkEyPilollVPCj2CHzy1'\n",
    "request = DRIVE.files().get_media(fileId=file_id)\n",
    "# replace the filename and extension in the first field below\n",
    "fh = io.FileIO(path_to_file, mode='w')\n",
    "downloader = MediaIoBaseDownload(fh, request)\n",
    "done = False\n",
    "while done is False:\n",
    "    status, done = downloader.next_chunk()\n",
    "    print(\"Download %d%%.\" % int(status.progress() * 100)) "
   ]
  },
  {
   "cell_type": "markdown",
   "metadata": {},
   "source": [
    "# Формулировка гипотезы"
   ]
  },
  {
   "cell_type": "markdown",
   "metadata": {},
   "source": [
    "    Если убрать поле для ввода Name on card, то вырастет конверсия в нажатие кнопки Pay, т.к. пользователям придётся вводит меньше данных.\n",
    "\n",
    "\n",
    "    P.S. Необходимо чертить \"линию на песке\" - ожидаемый % роста конверсии. И изначальную конверсию, т.к. даже незначительный рост можно интерпрепировать у свою сторону. \n",
    "### Костылем попробуем сформулировать гипотезу, считав данные с исходного df. Безусловно, нехорошо, т.к. гипотезы должны быть сформулированные без подглядываний.  "
   ]
  },
  {
   "cell_type": "code",
   "execution_count": 6,
   "metadata": {},
   "outputs": [
    {
     "data": {
      "text/html": [
       "<div>\n",
       "<style scoped>\n",
       "    .dataframe tbody tr th:only-of-type {\n",
       "        vertical-align: middle;\n",
       "    }\n",
       "\n",
       "    .dataframe tbody tr th {\n",
       "        vertical-align: top;\n",
       "    }\n",
       "\n",
       "    .dataframe thead th {\n",
       "        text-align: right;\n",
       "    }\n",
       "</style>\n",
       "<table border=\"1\" class=\"dataframe\">\n",
       "  <thead>\n",
       "    <tr style=\"text-align: right;\">\n",
       "      <th></th>\n",
       "      <th>DEVICES_BRANDS</th>\n",
       "      <th>BROWSERS</th>\n",
       "      <th>DEVICE_TYPE</th>\n",
       "      <th>Conversion</th>\n",
       "      <th>A/B</th>\n",
       "      <th>config_os</th>\n",
       "      <th>config_os_version</th>\n",
       "      <th>config_resolution</th>\n",
       "      <th>idvisit</th>\n",
       "      <th>platform_v4</th>\n",
       "    </tr>\n",
       "  </thead>\n",
       "  <tbody>\n",
       "    <tr>\n",
       "      <th>7617</th>\n",
       "      <td>SAMSUNG</td>\n",
       "      <td>CHROME MOBILE</td>\n",
       "      <td>SMARTPHONE</td>\n",
       "      <td>0</td>\n",
       "      <td>new</td>\n",
       "      <td>AND</td>\n",
       "      <td>7</td>\n",
       "      <td>360x640</td>\n",
       "      <td>5127365</td>\n",
       "      <td>MOB</td>\n",
       "    </tr>\n",
       "    <tr>\n",
       "      <th>9061</th>\n",
       "      <td>Other</td>\n",
       "      <td>CHROME MOBILE</td>\n",
       "      <td>SMARTPHONE</td>\n",
       "      <td>0</td>\n",
       "      <td>old</td>\n",
       "      <td>AND</td>\n",
       "      <td>7</td>\n",
       "      <td>360x720</td>\n",
       "      <td>4391393</td>\n",
       "      <td>MOB</td>\n",
       "    </tr>\n",
       "    <tr>\n",
       "      <th>23515</th>\n",
       "      <td>Other</td>\n",
       "      <td>CHROME MOBILE</td>\n",
       "      <td>SMARTPHONE</td>\n",
       "      <td>0</td>\n",
       "      <td>new</td>\n",
       "      <td>AND</td>\n",
       "      <td>4.4</td>\n",
       "      <td>360x640</td>\n",
       "      <td>6022098</td>\n",
       "      <td>MOB</td>\n",
       "    </tr>\n",
       "  </tbody>\n",
       "</table>\n",
       "</div>"
      ],
      "text/plain": [
       "      DEVICES_BRANDS       BROWSERS DEVICE_TYPE  Conversion  A/B config_os  \\\n",
       "7617         SAMSUNG  CHROME MOBILE  SMARTPHONE           0  new       AND   \n",
       "9061           Other  CHROME MOBILE  SMARTPHONE           0  old       AND   \n",
       "23515          Other  CHROME MOBILE  SMARTPHONE           0  new       AND   \n",
       "\n",
       "      config_os_version config_resolution  idvisit platform_v4  \n",
       "7617                  7           360x640  5127365         MOB  \n",
       "9061                  7           360x720  4391393         MOB  \n",
       "23515               4.4           360x640  6022098         MOB  "
      ]
     },
     "execution_count": 6,
     "metadata": {},
     "output_type": "execute_result"
    }
   ],
   "source": [
    "# чтение файла в датафрейм\n",
    "split = pd.read_excel(path_to_file)\n",
    "\n",
    "split.sample(3)"
   ]
  },
  {
   "cell_type": "code",
   "execution_count": 88,
   "metadata": {},
   "outputs": [],
   "source": [
    "# список измерений для группировки и вычислений\n",
    "diminsion_col = ['DEVICES_BRANDS', 'BROWSERS', 'DEVICE_TYPE', 'Conversion'\n",
    "                 , 'A/B', 'config_os', 'config_os_version', 'config_resolution', 'platform_v4']"
   ]
  },
  {
   "cell_type": "code",
   "execution_count": 89,
   "metadata": {},
   "outputs": [],
   "source": [
    "# No action required: Leave the original dataframe untouched and sort the new dataframe\n",
    "split2 = split.copy()"
   ]
  },
  {
   "cell_type": "code",
   "execution_count": 90,
   "metadata": {},
   "outputs": [
    {
     "data": {
      "text/html": [
       "<div>\n",
       "<style scoped>\n",
       "    .dataframe tbody tr th:only-of-type {\n",
       "        vertical-align: middle;\n",
       "    }\n",
       "\n",
       "    .dataframe tbody tr th {\n",
       "        vertical-align: top;\n",
       "    }\n",
       "\n",
       "    .dataframe thead th {\n",
       "        text-align: right;\n",
       "    }\n",
       "</style>\n",
       "<table border=\"1\" class=\"dataframe\">\n",
       "  <thead>\n",
       "    <tr style=\"text-align: right;\">\n",
       "      <th></th>\n",
       "      <th>DEVICES_BRANDS</th>\n",
       "      <th>BROWSERS</th>\n",
       "      <th>DEVICE_TYPE</th>\n",
       "      <th>Conversion</th>\n",
       "      <th>A/B</th>\n",
       "      <th>config_os</th>\n",
       "      <th>config_resolution</th>\n",
       "      <th>config_os_version</th>\n",
       "      <th>platform_v4</th>\n",
       "      <th>visit_cnt</th>\n",
       "    </tr>\n",
       "  </thead>\n",
       "  <tbody>\n",
       "    <tr>\n",
       "      <th>7591</th>\n",
       "      <td>Other</td>\n",
       "      <td>CHROME MOBILE</td>\n",
       "      <td>SMARTPHONE</td>\n",
       "      <td>0</td>\n",
       "      <td>new</td>\n",
       "      <td>AND</td>\n",
       "      <td>360x640</td>\n",
       "      <td>7</td>\n",
       "      <td>MOB</td>\n",
       "      <td>2355.0</td>\n",
       "    </tr>\n",
       "    <tr>\n",
       "      <th>16345</th>\n",
       "      <td>Other</td>\n",
       "      <td>CHROME MOBILE</td>\n",
       "      <td>SMARTPHONE</td>\n",
       "      <td>0</td>\n",
       "      <td>new</td>\n",
       "      <td>AND</td>\n",
       "      <td>424x753</td>\n",
       "      <td>7</td>\n",
       "      <td>MOB</td>\n",
       "      <td>49.0</td>\n",
       "    </tr>\n",
       "    <tr>\n",
       "      <th>18527</th>\n",
       "      <td>Other</td>\n",
       "      <td>CHROME</td>\n",
       "      <td>DESKTOP</td>\n",
       "      <td>0</td>\n",
       "      <td>old</td>\n",
       "      <td>WIN</td>\n",
       "      <td>1280x1024</td>\n",
       "      <td>7</td>\n",
       "      <td>WEB</td>\n",
       "      <td>18.0</td>\n",
       "    </tr>\n",
       "  </tbody>\n",
       "</table>\n",
       "</div>"
      ],
      "text/plain": [
       "      DEVICES_BRANDS       BROWSERS DEVICE_TYPE  Conversion  A/B config_os  \\\n",
       "7591           Other  CHROME MOBILE  SMARTPHONE           0  new       AND   \n",
       "16345          Other  CHROME MOBILE  SMARTPHONE           0  new       AND   \n",
       "18527          Other         CHROME     DESKTOP           0  old       WIN   \n",
       "\n",
       "      config_resolution config_os_version platform_v4  visit_cnt  \n",
       "7591            360x640                 7         MOB     2355.0  \n",
       "16345           424x753                 7         MOB       49.0  \n",
       "18527         1280x1024                 7         WEB       18.0  "
      ]
     },
     "execution_count": 90,
     "metadata": {},
     "output_type": "execute_result"
    }
   ],
   "source": [
    "# считаем кол-во визитов в разрезе необходимых измерений\n",
    "split2['visit_cnt'] = split2.groupby(diminsion_col)['idvisit'].transform('count')\n",
    "\n",
    "\n",
    "split2 = split2.astype({\"visit_cnt\": int}, errors='ignore')\n",
    "\n",
    "split2 = split2.filter(['DEVICES_BRANDS', 'BROWSERS', 'DEVICE_TYPE', 'Conversion'\n",
    "                 , 'A/B', 'config_os', 'config_resolution', 'config_os_version', 'platform_v4', 'visit_cnt'])\n",
    "\n",
    "split2.sample(3)"
   ]
  },
  {
   "cell_type": "code",
   "execution_count": 91,
   "metadata": {},
   "outputs": [
    {
     "data": {
      "text/plain": [
       "(           visit_cnt               \n",
       " Conversion         0     1      All\n",
       " A/B                                \n",
       " old             9806  1350  11085.0\n",
       " All             9739  1346  11085.0,\n",
       "            visit_cnt               \n",
       " Conversion         0         1  All\n",
       " A/B                                \n",
       " old         0.884619  0.121786  1.0\n",
       " All         0.878575  0.121425  1.0)"
      ]
     },
     "execution_count": 91,
     "metadata": {},
     "output_type": "execute_result"
    }
   ],
   "source": [
    "old = split2[split2['A/B']=='old']\n",
    "table = pd.pivot_table(old, values=[\"visit_cnt\"],\n",
    "                       index=[\"A/B\"], columns=[\"Conversion\"], \n",
    "                       aggfunc=len, margins=True, \n",
    "                       dropna=True, fill_value=0)\n",
    "\n",
    "table2 = table.div(table.iloc[:,-1], axis=0)\n",
    "table, table2"
   ]
  },
  {
   "cell_type": "markdown",
   "metadata": {},
   "source": [
    "## Нулевая гипотеза\n",
    "> ### Если убрать поле для ввода Name on card, то конверсия повыситься с 12,1% до 15%"
   ]
  },
  {
   "cell_type": "markdown",
   "metadata": {},
   "source": [
    "# "
   ]
  },
  {
   "cell_type": "markdown",
   "metadata": {},
   "source": [
    "# Sampling"
   ]
  },
  {
   "cell_type": "markdown",
   "metadata": {},
   "source": [
    "Поскольку мы не знаем, будет ли новый дизайн работать лучше или хуже (или будет таким же?), Как наш текущий, мы выберем двусторонний тест:\n",
    "> # Hₒ: p = pₒ\n",
    "> # Hₐ: p ≠ pₒ\n",
    "    - где p и pₒ обозначают коэффициент конверсии нового и старого дизайна соответственно. \n",
    "    \n",
    "    Мы также установим уровень достоверности 95%:\n",
    "> # α = 0,05\n",
    "    \n",
    "    Значение α - это порог, который мы устанавливаем, с помощью которого мы говорим: «Если вероятность увидеть результат как экстремальный или более высокий (p-значение) ниже, чем α, то мы отвергаем нулевую гипотезу». Поскольку наш α = 0,05 (что указывает на вероятность 5%), наша уверенность (1 - α) составляет 95%."
   ]
  },
  {
   "cell_type": "markdown",
   "metadata": {},
   "source": [
    "## Cколько человек должно быть в каждой группе?\n",
    "\n",
    "Размер необходимой нам выборки оценивается с помощью так называемого анализа мощности и зависит от нескольких факторов:\n",
    "### Мощность теста (1 - β) \n",
    "    - это вероятность обнаружения статистической разницы между группами в нашем тесте, когда разница действительно присутствует. Обычно по соглашению устанавливается на 0,8 (если вам интересно, вот дополнительная информация о статистической мощности).\n",
    "### Альфа-значение (α) \n",
    "     - Критическое значение, которое мы ранее установили равным 0,05\n",
    "### Размер эффекта \n",
    "    - насколько большой мы ожидаем увидеть разницу между коэффициентами конверсии."
   ]
  },
  {
   "cell_type": "code",
   "execution_count": 92,
   "metadata": {},
   "outputs": [
    {
     "name": "stdout",
     "output_type": "stream",
     "text": [
      "We’d need at least 2181 observations for each group\n"
     ]
    }
   ],
   "source": [
    "mpl.rc('font', **font)\n",
    "effect_size = sms.proportion_effectsize(0.121, 0.15)    # Calculating effect size based on our expected rates\n",
    "\n",
    "required_n = sms.NormalIndPower().solve_power(\n",
    "    effect_size, \n",
    "    power=0.8, \n",
    "    alpha=0.05, \n",
    "    ratio=1\n",
    "    )   \n",
    "\n",
    "required_n = ceil(required_n)                          # Rounding up to next whole number                          \n",
    "\n",
    "print(f'We’d need at least {required_n} observations for each group')"
   ]
  },
  {
   "cell_type": "markdown",
   "metadata": {},
   "source": [
    "   > Установка параметра мощности на 0,8 на практике означает, что если существует реальная разница в коэффициенте конверсии между нашими проектами, предполагая, что разница является той, которую мы оценили (12,1% против 15%), у нас есть 80% шанс определить его как статистически значимый в нашем тесте с размером выборки, который мы рассчитали."
   ]
  },
  {
   "cell_type": "code",
   "execution_count": 93,
   "metadata": {},
   "outputs": [
    {
     "data": {
      "text/html": [
       "<div>\n",
       "<style scoped>\n",
       "    .dataframe tbody tr th:only-of-type {\n",
       "        vertical-align: middle;\n",
       "    }\n",
       "\n",
       "    .dataframe tbody tr th {\n",
       "        vertical-align: top;\n",
       "    }\n",
       "\n",
       "    .dataframe thead th {\n",
       "        text-align: right;\n",
       "    }\n",
       "</style>\n",
       "<table border=\"1\" class=\"dataframe\">\n",
       "  <thead>\n",
       "    <tr style=\"text-align: right;\">\n",
       "      <th>Conversion</th>\n",
       "      <th>0</th>\n",
       "      <th>1</th>\n",
       "      <th>Total</th>\n",
       "    </tr>\n",
       "    <tr>\n",
       "      <th>A/B</th>\n",
       "      <th></th>\n",
       "      <th></th>\n",
       "      <th></th>\n",
       "    </tr>\n",
       "  </thead>\n",
       "  <tbody>\n",
       "    <tr>\n",
       "      <th>new</th>\n",
       "      <td>13564</td>\n",
       "      <td>1865</td>\n",
       "      <td>15429</td>\n",
       "    </tr>\n",
       "    <tr>\n",
       "      <th>old</th>\n",
       "      <td>9806</td>\n",
       "      <td>1350</td>\n",
       "      <td>11156</td>\n",
       "    </tr>\n",
       "    <tr>\n",
       "      <th>Total</th>\n",
       "      <td>23370</td>\n",
       "      <td>3215</td>\n",
       "      <td>26585</td>\n",
       "    </tr>\n",
       "  </tbody>\n",
       "</table>\n",
       "</div>"
      ],
      "text/plain": [
       "Conversion      0     1  Total\n",
       "A/B                           \n",
       "new         13564  1865  15429\n",
       "old          9806  1350  11156\n",
       "Total       23370  3215  26585"
      ]
     },
     "execution_count": 93,
     "metadata": {},
     "output_type": "execute_result"
    }
   ],
   "source": [
    "pd.crosstab(split2['A/B'], split2['Conversion']\n",
    "            , margins=True, margins_name=\"Total\")"
   ]
  },
  {
   "cell_type": "markdown",
   "metadata": {},
   "source": [
    "       При рекомендуемом значение выборки 2181 мы имеем кол-во выше: новая - 15429 и старая - 11156. Закладывался ли изначально такой размер выборки? Также наблюдается диспропорция в сторону новой группы. Необходимо разделять 50/50 или делать тестовую группу меньше, т.к. не знаем как она заафектит."
   ]
  },
  {
   "cell_type": "markdown",
   "metadata": {},
   "source": [
    "### Рекомендации"
   ]
  },
  {
   "cell_type": "markdown",
   "metadata": {},
   "source": [
    "     >  1) Точная формулировка гипотезы. Какой % конверсии сейчас и сколько хотим получить при запуске новой формы.\n",
    "     >   2) Дизайн теста. Сколько человек достаточно для получения достоверных ожидаемых результатов. От этого получим и время проведения.\n",
    "     >   3) Необходимо понимать длительность проведения А/В теста и поведение пользователей во времени и получены ли данные в один период - добавить колонку timestamp.\n",
    "     >   4 ) Отсутствует user_id - хотелось бы проверить по пользователю или Cookies-файлу не было ли повторных транзакций у форме. И не было ли в пользователя пересечений тестовая/контрольная группа.\n",
    "     > 5)  Перезапуск. Можно копаться в текущих результатах, но похоже на проблему подглядывания. Соответственно, есть риск сделать вывод на нерелевантных данных (диспропорция с размере групп, типах платформ и т.д.), что дороже, чем следовать правильной методологии проведения теста.\n",
    "     > 6) Добавляю детализацию по микроконверсии сегментов трафика при проведении теста в тетрадку micro_conversion_addit_split_test для понимания общего хода теста и его ценности."
   ]
  },
  {
   "cell_type": "markdown",
   "metadata": {},
   "source": [
    "Ссылка на тему проблемы подглядывания и дизайна теста: \n",
    "https://gopractice.ru/how-not-to-analyze-abtests/"
   ]
  }
 ],
 "metadata": {
  "kernelspec": {
   "display_name": "Python 3",
   "language": "python",
   "name": "python3"
  },
  "language_info": {
   "codemirror_mode": {
    "name": "ipython",
    "version": 3
   },
   "file_extension": ".py",
   "mimetype": "text/x-python",
   "name": "python",
   "nbconvert_exporter": "python",
   "pygments_lexer": "ipython3",
   "version": "3.7.2"
  }
 },
 "nbformat": 4,
 "nbformat_minor": 4
}
